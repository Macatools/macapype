{
  "cells": [
    {
      "cell_type": "code",
      "execution_count": null,
      "metadata": {
        "collapsed": false
      },
      "outputs": [],
      "source": [
        "%matplotlib inline"
      ]
    },
    {
      "cell_type": "markdown",
      "metadata": {},
      "source": [
        "\n\n# Plot the results of a segmentation with SPM-based pipeline T1xT2\n\n\n"
      ]
    },
    {
      "cell_type": "code",
      "execution_count": null,
      "metadata": {
        "collapsed": false
      },
      "outputs": [],
      "source": [
        "# Authors: David Meunier <david_meunier_79@hotmail.fr>\n\n# License: BSD (3-clause)\n# sphinx_gallery_thumbnail_number = 2\n\nimport os\nimport os.path as op\n\nimport nipype.pipeline.engine as pe\n\nfrom nipype.interfaces.utility import IdentityInterface\nimport nipype.interfaces.io as nio\n\nfrom macapype.utils.utils_tests import load_test_data"
      ]
    },
    {
      "cell_type": "markdown",
      "metadata": {},
      "source": [
        "Testing plot in local\n#############################################################################\n\n"
      ]
    },
    {
      "cell_type": "code",
      "execution_count": null,
      "metadata": {
        "collapsed": false
      },
      "outputs": [],
      "source": [
        "data_path = load_test_data(\"data_test_macapype\")\n\n# displaying results\nwf_path = os.path.join(data_path, \"test_NodeParams_T1xT2\")\n\ngraph = os.path.join(wf_path, \"graph.png\")\n\nimport matplotlib.pyplot as plt  # noqa\nimg = plt.imread(graph)\nplt.figure(figsize=(36, 72))\nplt.imshow(img)\nplt.axis('off')\nplt.show()"
      ]
    },
    {
      "cell_type": "markdown",
      "metadata": {},
      "source": [
        "Data preparation\n#############################################################################\n\n"
      ]
    },
    {
      "cell_type": "markdown",
      "metadata": {},
      "source": [
        "Cropping\n===========================\n\n"
      ]
    },
    {
      "cell_type": "code",
      "execution_count": null,
      "metadata": {
        "collapsed": false
      },
      "outputs": [],
      "source": [
        "bet_path = os.path.join(wf_path, \"data_preparation_pipe\", \"bet_crop\")\n\nT1_file = op.join(bet_path, \"sub-Apache_ses-01_T1w_cropped.nii.gz\")\nprint(T1_file)\nassert os.path.exists(T1_file)\n\n#outfile_T1 = os.path.join(wf_path, \"outfile_T1.png\")\n#cmd = \"fsleyes render --outfile {} --size 1800 600 {}\".format(outfile_T1, T1_file)\n#os.system(cmd)\n\n#import matplotlib.pyplot as plt  # noqa\n#img = plt.imread(outfile_T1)\n#plt.figure(figsize=(16, 16))\n#plt.imshow(img)\n#plt.axis('off')\n#plt.show()"
      ]
    },
    {
      "cell_type": "markdown",
      "metadata": {},
      "source": [
        "brain extraction results\n==========================\n\n"
      ]
    },
    {
      "cell_type": "code",
      "execution_count": null,
      "metadata": {
        "collapsed": false
      },
      "outputs": [],
      "source": [
        "bet_mask_file = op.join(bet_path, \"sub-Apache_ses-01_T1w_BET_mask_cropped.nii.gz\")\n\nassert os.path.exists(bet_mask_file)\n\noutput_img_overlay = os.path.join(wf_path,\"outfile_overlay.png\")\ncmd = \"fsleyes render --outfile {} --size 1800 600 {} {} -cm blue -a 50\".format(output_img_overlay, T1_file, bet_mask_file)\nos.system(cmd)\n\nimport matplotlib.pyplot as plt  # noqa\nimg = plt.imread(output_img_overlay)\nplt.figure(figsize=(36, 12))\nplt.imshow(img)\nplt.axis('off')\nplt.show()"
      ]
    },
    {
      "cell_type": "markdown",
      "metadata": {},
      "source": [
        "Correct bias results\n==========================\n\n"
      ]
    },
    {
      "cell_type": "code",
      "execution_count": null,
      "metadata": {
        "collapsed": false
      },
      "outputs": [],
      "source": [
        "# Comparing Bet results (only if bet is set for T1xT2BiasFieldCorrection)\n#debias_path = op.join(wf_path, \"debias\")\n#outfile_debias_mask = os.path.join(wf_path,\"outfile_debias_mask.png\")\n#debias_mask_file = op.join(debias_path, \"sub-Apache_ses-01_T1w_cropped_noise_corrected_debiased_BET_mask.nii.gz\")\n#assert os.path.exists(debias_mask_file)\n#cmd = \"fsleyes render --outfile {} --size 1800 600 {} {} -cm red -a 33 {} -cm blue -a 33\".format(outfile_debias_mask, T1_file, bet_mask_file, debias_mask_file)\n#os.system(cmd)\n\n\n#import matplotlib.pyplot as plt  # noqa\n#img = plt.imread(outfile_debias_mask)\n#plt.figure(figsize=(36, 12))\n#plt.imshow(img)\n#plt.axis('off')\n#plt.show()\n\n\n\n\ndebiased_brain_file = op.join(wf_path, \"debias\",\n                           \"sub-Apache_ses-01_T1w_cropped_noise_corrected_debiased_brain.nii.gz\")\n\ndebiased_T1_brain = os.path.join(wf_path,\"debiased_T1_brain.png\")\ncmd = \"fsleyes render --outfile {} --size 1800 600 {} {} -cm red -a 50 \".format(debiased_T1_brain, T1_file, debiased_brain_file)\nos.system(cmd)\n\nimport matplotlib.pyplot as plt  # noqa\nimg = plt.imread(debiased_T1_brain)\nplt.figure(figsize=(36, 12))\nplt.imshow(img)\nplt.axis('off')\nplt.show()"
      ]
    },
    {
      "cell_type": "markdown",
      "metadata": {},
      "source": [
        "registration results\n=====================\n\n"
      ]
    },
    {
      "cell_type": "code",
      "execution_count": null,
      "metadata": {
        "collapsed": false
      },
      "outputs": [],
      "source": [
        "reg_T1_file = op.join(wf_path,\"reg\", \"sub-Apache_ses-01_T1w_cropped_noise_corrected_debiased_brain_FLIRT-to_inia19-t1-brain.nii\")\nassert os.path.exists(reg_T1_file)\n\n# showing mask\nsegment_path = os.path.join(wf_path, \"old_segment_pipe\")\n\nfilled_mask_file = os.path.join(segment_path, \"fill_holes\", \"c1sub-Apache_ses-01_T1w_cropped_noise_corrected_debiased_brain_FLIRT-to_inia19-t1-brain_thresh_maths_maths_ero_filled.nii.gz\")\nassert os.path.exists(filled_mask_file)\n\n#filled_mask_file = os.path.join(segment_path, \"fill_holes_dil\", \"c1sub-Apache_ses-01_T1w_cropped_debiased_brain_FLIRT-to_inia19-t1-brain_thresh_maths_maths_dil_filled.nii.gz\")\n\noutfile_seg_mask = os.path.join(wf_path,\"outfile_seg_mask.png\")\ncmd = \"fsleyes render --outfile {} --size 1800 600 {} {} -a 50\".format(outfile_seg_mask, reg_T1_file, filled_mask_file)\nos.system(cmd)\n\nimport matplotlib.pyplot as plt  # noqa\nimg = plt.imread(outfile_seg_mask)\nplt.figure(figsize=(36, 12))\nplt.imshow(img)\nplt.axis('off')\nplt.show()"
      ]
    },
    {
      "cell_type": "markdown",
      "metadata": {},
      "source": [
        "segmentation results\n=====================\n\n"
      ]
    },
    {
      "cell_type": "code",
      "execution_count": null,
      "metadata": {
        "collapsed": false
      },
      "outputs": [],
      "source": [
        "gm_file = os.path.join(segment_path, \"threshold_gm\", \"c1sub-Apache_ses-01_T1w_cropped_noise_corrected_debiased_brain_FLIRT-to_inia19-t1-brain_thresh.nii.gz\")\nwm_file = os.path.join(segment_path, \"threshold_wm\", \"c2sub-Apache_ses-01_T1w_cropped_noise_corrected_debiased_brain_FLIRT-to_inia19-t1-brain_thresh.nii.gz\")\ncsf_file = os.path.join(segment_path, \"threshold_csf\", \"c3sub-Apache_ses-01_T1w_cropped_noise_corrected_debiased_brain_FLIRT-to_inia19-t1-brain_thresh.nii.gz\")\n\nassert os.path.exists(gm_file)\nassert os.path.exists(wm_file)\nassert os.path.exists(csf_file)\n\noutfile_seg_col = os.path.join(wf_path,\"outfile_seg_col.png\")\ncmd = \"fsleyes render --outfile {} --size 1800 600 {} {} {} {}\".format(outfile_seg_col, reg_T1_file, gm_file, wm_file, csf_file)\ncmd = \"fsleyes render --outfile {} --size 1800 600 {} {} -cm red {} -cm blue {} -cm green\".format(outfile_seg_col, reg_T1_file, gm_file, wm_file, csf_file)\nos.system(cmd)\n\nimport matplotlib.pyplot as plt  # noqa\nimg = plt.imread(outfile_seg_col)\nplt.figure(figsize=(36, 12))\nplt.imshow(img)\nplt.axis('off')\nplt.show()"
      ]
    }
  ],
  "metadata": {
    "kernelspec": {
      "display_name": "Python 3",
      "language": "python",
      "name": "python3"
    },
    "language_info": {
      "codemirror_mode": {
        "name": "ipython",
        "version": 3
      },
      "file_extension": ".py",
      "mimetype": "text/x-python",
      "name": "python",
      "nbconvert_exporter": "python",
      "pygments_lexer": "ipython3",
      "version": "3.6.10"
    }
  },
  "nbformat": 4,
  "nbformat_minor": 0
}