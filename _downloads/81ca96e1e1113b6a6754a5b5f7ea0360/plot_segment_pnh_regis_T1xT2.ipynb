{
  "cells": [
    {
      "cell_type": "code",
      "execution_count": null,
      "metadata": {
        "collapsed": false
      },
      "outputs": [],
      "source": [
        "%matplotlib inline"
      ]
    },
    {
      "cell_type": "markdown",
      "metadata": {},
      "source": [
        "\n\n# Plot the results of a segmentation\n\n\n"
      ]
    },
    {
      "cell_type": "code",
      "execution_count": null,
      "metadata": {
        "collapsed": false
      },
      "outputs": [],
      "source": [
        "# Authors: David Meunier <david_meunier_79@hotmail.fr>\n\n# License: BSD (3-clause)\n# sphinx_gallery_thumbnail_number = 2\nimport os\nimport os.path as op\n\nimport nipype.pipeline.engine as pe\n\nfrom nipype.interfaces.utility import IdentityInterface\nimport nipype.interfaces.io as nio"
      ]
    },
    {
      "cell_type": "markdown",
      "metadata": {},
      "source": [
        "Load test data and run\n========================\n\n"
      ]
    },
    {
      "cell_type": "code",
      "execution_count": null,
      "metadata": {
        "collapsed": false
      },
      "outputs": [],
      "source": [
        "from macapype.utils.utils_tests import load_test_data, format_template\n\nfrom macapype.pipelines.full_pipelines import create_full_T1xT2_segment_pnh_subpipes  # noqa\nfrom macapype.utils.utils_spm import format_spm_priors\nimport json, pprint\n\n# data file\n\n\n#package_directory = os.path.dirname(os.path.abspath(__file__))\n#params_file = '{}/../workflows/params_segment_pnh_regis_T1xT2.json'.format(package_directory)\n#params = json.load(open(params_file))\n\n#print(params)\n#pprint.pprint(params)\n\n#if \"general\" in params.keys() and \"data_path\" in params[\"general\"].keys():\n    #data_path = params[\"general\"][\"data_path\"]\n#else:\n    #data_path = \"/home/INT/meunier.d/Data/\"\n    ##data_path = \"/hpc/crise/meunier.d/\"\n    ##data_path = \"/hpc/neopto/USERS/racicot/data/\"\n\n\n#if \"general\" in params.keys() and \"template_name\" in params[\"general\"].keys():\n    #template_name = params[\"general\"][\"template_name\"]\n#else:\n    #template_name = 'inia19'\n\n#nmt_dir = load_test_data(template_name, path_to = data_path)\n#params_template = format_template(nmt_dir, template_name)\n#print (params_template)\n\n##data_path = load_test_data(\"data_test_macapype\", path_to = data_path)\n\n## data file\n#T1_file = op.join(data_path, \"sub-Apache_ses-01_T1w.nii\")\n#T2_file = op.join(data_path, \"sub-Apache_ses-01_T2w.nii\")\n\n## running workflow\n#segment_pnh = create_full_T1xT2_segment_pnh_subpipes(\n    #params=params, params_template=params_template)\n#segment_pnh.base_dir = data_path\n\n#segment_pnh.inputs.inputnode.T1 = T1_file\n#segment_pnh.inputs.inputnode.T2 = T2_file\n\n#segment_pnh.write_graph(graph2use=\"colored\")\n##segment_pnh.run()\n\n#exit()"
      ]
    },
    {
      "cell_type": "markdown",
      "metadata": {},
      "source": [
        "Testing plot in local\n======================\n\n"
      ]
    },
    {
      "cell_type": "code",
      "execution_count": null,
      "metadata": {
        "collapsed": false
      },
      "outputs": [],
      "source": [
        "data_path = \"/home/INT/meunier.d/Data/Primavoice/\"\n\n# displaying results\nwf_path = os.path.join(data_path, \"T1xT2_segmentation_pipeline\")\nbet_path = os.path.join(wf_path, \"bet\")\n\nT1_file = op.join(bet_path, \"sub-Apache_ses-01_T1w_cropped.nii.gz\")\nassert os.path.exists(T1_file)\n\noutfile_T1 = os.path.join(wf_path, \"outfile_T1.png\")\ncmd = \"fsleyes render --outfile {} --size 1800 600 {}\".format(outfile_T1, T1_file)\nos.system(cmd)\n\nimport matplotlib.pyplot as plt  # noqa\nimg = plt.imread(outfile_T1)\nplt.figure(figsize=(16, 16))\nplt.imshow(img)\nplt.axis('off')\nplt.show()"
      ]
    },
    {
      "cell_type": "markdown",
      "metadata": {},
      "source": [
        "Correct bias results\n==========================\n\n"
      ]
    },
    {
      "cell_type": "code",
      "execution_count": null,
      "metadata": {
        "collapsed": false
      },
      "outputs": [],
      "source": [
        "debiased_T1_file = op.join(wf_path, \"debias\",\n                           \"sub-Apache_ses-01_T1w_cropped_debiased.nii.gz\")\n\n\ndebiased_T1 = os.path.join(wf_path,\"debiased_T1.png\")\n\ncmd = \"fsleyes render --outfile {} --size 1800 600 {}\".format(debiased_T1, debiased_T1_file)\nos.system(cmd)\n\nimport matplotlib.pyplot as plt  # noqa\nimg = plt.imread(outfile_T1)\n\nfig, axs = plt.subplots(2, 1, figsize=(24, 16))\naxs[0].imshow(plt.imread(outfile_T1))\naxs[0].axis('off')\n\naxs[1].imshow(plt.imread(debiased_T1))\naxs[1].axis('off')\nplt.show()"
      ]
    },
    {
      "cell_type": "markdown",
      "metadata": {},
      "source": [
        "brain extraction results\n==========================\n\n"
      ]
    },
    {
      "cell_type": "code",
      "execution_count": null,
      "metadata": {
        "collapsed": false
      },
      "outputs": [],
      "source": [
        "mask_file = op.join(bet_path, \"sub-Apache_ses-01_T1w_BET_mask_cropped.nii.gz\")\n\n# Bet results\noutput_img_overlay = os.path.join(wf_path,\"outfile_overlay.png\")\ncmd = \"fsleyes render --outfile {} --size 1800 600 {} {} -a 50\".format(output_img_overlay, T1_file, mask_file)\nos.system(cmd)\n\n\nimport matplotlib.pyplot as plt  # noqa\nimg = plt.imread(output_img_overlay)\nplt.figure(figsize=(16, 16))\nplt.imshow(img)\nplt.axis('off')\nplt.show()"
      ]
    },
    {
      "cell_type": "markdown",
      "metadata": {},
      "source": [
        "registration results\n=====================\n\n"
      ]
    },
    {
      "cell_type": "code",
      "execution_count": null,
      "metadata": {
        "collapsed": false
      },
      "outputs": [],
      "source": [
        "reg_T1_file = op.join(wf_path,\"reg\", \"sub-Apache_ses-01_T1w_cropped_debiased_brain_FLIRT-to_inia19-t1-brain.nii\")\n\n# showing mask\nsegment_path = os.path.join(wf_path, \"old_segment_extraction_pipe\")\n\nfilled_mask_file = os.path.join(segment_path, \"fill_holes\", \"c1sub-Apache_ses-01_T1w_cropped_debiased_brain_FLIRT-to_inia19-t1-brain_thresh_maths_maths_dil_ero_filled.nii.gz\")\n\n#filled_mask_file = os.path.join(segment_path, \"fill_holes_dil\", \"c1sub-Apache_ses-01_T1w_cropped_debiased_brain_FLIRT-to_inia19-t1-brain_thresh_maths_maths_dil_filled.nii.gz\")\n\noutfile_seg_mask = os.path.join(wf_path,\"outfile_seg_mask.png\")\ncmd = \"fsleyes render --outfile {} --size 1800 600 {} {} -a 50\".format(outfile_seg_mask, reg_T1_file, filled_mask_file)\nos.system(cmd)\n\nimport matplotlib.pyplot as plt  # noqa\nimg = plt.imread(outfile_seg_mask)\nplt.figure(figsize=(16, 16))\nplt.imshow(img)\nplt.axis('off')\nplt.show()"
      ]
    },
    {
      "cell_type": "markdown",
      "metadata": {},
      "source": [
        "segmentation results\n=====================\n\n"
      ]
    },
    {
      "cell_type": "code",
      "execution_count": null,
      "metadata": {
        "collapsed": false
      },
      "outputs": [],
      "source": [
        "gm_file = os.path.join(segment_path, \"threshold_gm\", \"c1sub-Apache_ses-01_T1w_cropped_debiased_brain_FLIRT-to_inia19-t1-brain_thresh.nii.gz\")\nwm_file = os.path.join(segment_path, \"threshold_wm\", \"c2sub-Apache_ses-01_T1w_cropped_debiased_brain_FLIRT-to_inia19-t1-brain_thresh.nii.gz\")\ncsf_file = os.path.join(segment_path, \"threshold_csf\", \"c3sub-Apache_ses-01_T1w_cropped_debiased_brain_FLIRT-to_inia19-t1-brain_thresh.nii.gz\")\n\noutfile_seg_col = os.path.join(wf_path,\"outfile_seg_col.png\")\ncmd = \"fsleyes render --outfile {} --size 1800 600 {} {} {} {}\".format(outfile_seg_col, reg_T1_file, gm_file, wm_file, csf_file)\ncmd = \"fsleyes render --outfile {} --size 1800 600 {} {} -cm red {} -cm blue {} -cm green\".format(outfile_seg_col, reg_T1_file, gm_file, wm_file, csf_file)\nos.system(cmd)\n\nimport matplotlib.pyplot as plt  # noqa\nimg = plt.imread(outfile_seg_col)\nplt.figure(figsize=(16, 16))\nplt.imshow(img)\nplt.axis('off')\nplt.show()"
      ]
    }
  ],
  "metadata": {
    "kernelspec": {
      "display_name": "Python 3",
      "language": "python",
      "name": "python3"
    },
    "language_info": {
      "codemirror_mode": {
        "name": "ipython",
        "version": 3
      },
      "file_extension": ".py",
      "mimetype": "text/x-python",
      "name": "python",
      "nbconvert_exporter": "python",
      "pygments_lexer": "ipython3",
      "version": "3.6.10"
    }
  },
  "nbformat": 4,
  "nbformat_minor": 0
}