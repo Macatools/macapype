{
  "cells": [
    {
      "cell_type": "code",
      "execution_count": null,
      "metadata": {
        "collapsed": false
      },
      "outputs": [],
      "source": [
        "%matplotlib inline"
      ]
    },
    {
      "cell_type": "markdown",
      "metadata": {},
      "source": [
        "\n\n# Plot the results of a segmentation with ANTS-based pipeline\n\n\n"
      ]
    },
    {
      "cell_type": "code",
      "execution_count": null,
      "metadata": {
        "collapsed": false
      },
      "outputs": [],
      "source": [
        "# Authors: David Meunier <david_meunier_79@hotmail.fr>\n\n# License: BSD (3-clause)\n# sphinx_gallery_thumbnail_number = 2\nimport os\nimport os.path as op\n\nimport json\nimport pprint\n\nfrom macapype.utils.utils_tests import load_test_data"
      ]
    },
    {
      "cell_type": "markdown",
      "metadata": {},
      "source": [
        "Testing plot in local\n#############################################################################\n\n"
      ]
    },
    {
      "cell_type": "code",
      "execution_count": null,
      "metadata": {
        "collapsed": false
      },
      "outputs": [],
      "source": [
        "data_path = load_test_data(\"data_test_macaque\")\n\nwf_path = os.path.join(data_path, \"example_segment_macaque_ants_based\")\n\ngraph = os.path.join(wf_path, \"graph.png\")\n\nimport matplotlib.pyplot as plt  # noqa\nimg = plt.imread(graph)\nplt.figure(figsize=(36, 72))\nplt.imshow(img)\nplt.axis('off')\nplt.show()"
      ]
    },
    {
      "cell_type": "markdown",
      "metadata": {},
      "source": [
        "Data preparation\n#############################################################################\n\n"
      ]
    },
    {
      "cell_type": "markdown",
      "metadata": {},
      "source": [
        "results of cropping\n===========================\n\n"
      ]
    },
    {
      "cell_type": "code",
      "execution_count": null,
      "metadata": {
        "collapsed": false
      },
      "outputs": [],
      "source": [
        "cropped_T1_file = op.join(wf_path, \"old_data_preparation_pipe\", \"bet_crop\", \"sub-Apache_ses-01_T1w_cropped.nii.gz\")\n\nassert op.exists(cropped_T1_file), \"Error with {}\".format(cropped_T1_file)\n\n# displaying results\ncropped_T1 = os.path.join(wf_path, \"cropped_T1.png\")\ncmd = \"fsleyes render --outfile {} --size 1800 600 {}\".format(cropped_T1, cropped_T1_file)\nos.system(cmd)"
      ]
    },
    {
      "cell_type": "markdown",
      "metadata": {},
      "source": [
        "results of denoising\n===========================\n\n"
      ]
    },
    {
      "cell_type": "code",
      "execution_count": null,
      "metadata": {
        "collapsed": false
      },
      "outputs": [],
      "source": [
        "denoised_T1_file = os.path.join(wf_path, \"old_data_preparation_pipe\", \"denoise_T1\",\n                           \"sub-Apache_ses-01_T1w_cropped_noise_corrected.nii.gz\")\n\nassert op.exists(denoised_T1_file), \"Error with {}\".format(denoised_T1_file)\n\n\ndenoised_T1 = os.path.join(wf_path,\"denoised_T1.png\")\n\ncmd = \"fsleyes render --outfile {} --size 1800 600 {}\".format(denoised_T1, denoised_T1_file)\nos.system(cmd)"
      ]
    },
    {
      "cell_type": "markdown",
      "metadata": {},
      "source": [
        "First part of the pipeline: brain extraction\n#############################################################################\n\n"
      ]
    },
    {
      "cell_type": "markdown",
      "metadata": {},
      "source": [
        "Correct bias results\n==========================\n\n"
      ]
    },
    {
      "cell_type": "code",
      "execution_count": null,
      "metadata": {
        "collapsed": false
      },
      "outputs": [],
      "source": [
        "debiased_T1_file = op.join(wf_path, \"brain_extraction_pipe\", \"correct_bias_pipe\", \"restore_T1\",\n                           \"sub-Apache_ses-01_T1w_cropped_noise_corrected_maths.nii.gz\")\n\nassert op.exists(debiased_T1_file), \"Error with {}\".format(debiased_T1_file)\n\ndebiased_T1 = os.path.join(wf_path,\"debiased_T1.png\")\n\ncmd = \"fsleyes render --outfile {} --size 1800 600 {}\".format(debiased_T1, debiased_T1_file)\nos.system(cmd)\n\nimport matplotlib.pyplot as plt  # noqa\nfig, axs = plt.subplots(3, 1, figsize=(36, 36))\naxs[0].imshow(plt.imread(cropped_T1))\naxs[0].axis('off')\n\naxs[1].imshow(plt.imread(denoised_T1))\naxs[1].axis('off')\n\naxs[2].imshow(plt.imread(debiased_T1))\naxs[2].axis('off')\nplt.show()"
      ]
    },
    {
      "cell_type": "markdown",
      "metadata": {},
      "source": [
        "Brain extraction results\n==========================\n\n"
      ]
    },
    {
      "cell_type": "code",
      "execution_count": null,
      "metadata": {
        "collapsed": false
      },
      "outputs": [],
      "source": [
        "# At the end 1st part pipeline\nsmooth_mask_file = os.path.join(\n    wf_path, \"brain_extraction_pipe\", \"extract_pipe\", \"smooth_mask\",\n    \"sub-Apache_ses-01_T1w_cropped_noise_corrected_maths_brain_bin_bin.nii.gz\")\n\nassert op.exists(smooth_mask_file), \"Error with {}\".format(smooth_mask_file)\n\nsmooth_mask = os.path.join(wf_path,\"smooth_mask.png\")\ncmd = \"fsleyes render --outfile {} --size 1800 600 {} {} -cm blue -a 50\".format(smooth_mask, cropped_T1_file, smooth_mask_file)\nos.system(cmd)\n\nimport matplotlib.pyplot as plt  # noqa\nimg = plt.imread(smooth_mask)\nplt.figure(figsize=(36, 12))\nplt.imshow(img)\nplt.axis('off')\nplt.show()"
      ]
    },
    {
      "cell_type": "markdown",
      "metadata": {},
      "source": [
        "Second part of the pipeline: segmentation\n#############################################################################\n\n"
      ]
    },
    {
      "cell_type": "code",
      "execution_count": null,
      "metadata": {
        "collapsed": false
      },
      "outputs": [],
      "source": [
        "seg_pipe = op.join(wf_path, \"brain_segment_from_mask_pipe\")"
      ]
    },
    {
      "cell_type": "markdown",
      "metadata": {},
      "source": [
        "debias T1xT2 and debias N4\n=============================\n\n"
      ]
    },
    {
      "cell_type": "code",
      "execution_count": null,
      "metadata": {
        "collapsed": false
      },
      "outputs": [],
      "source": [
        "debiased_mask_T1_file = os.path.join(seg_pipe, \"masked_correct_bias_pipe\", \"restore_mask_T1\",\n                         \"sub-Apache_ses-01_T1w_cropped_noise_corrected_maths_masked.nii.gz\")\n\nassert op.exists(smooth_mask_file), \"Error with {}\".format(denoised_T1_file)\n\n\ndebiased_mask_T1 = os.path.join(wf_path,\"debiased_mask_T1.png\")\n\ncmd = \"fsleyes render --outfile {} --size 1800 600 {} -cm Render3\".format(debiased_mask_T1, debiased_mask_T1_file)\nos.system(cmd)\n\n\nN4_debias_T1_file = os.path.join(seg_pipe, \"register_NMT_pipe\", \"norm_intensity\",\n                         \"sub-Apache_ses-01_T1w_cropped_noise_corrected_maths_masked_corrected.nii.gz\")\n\nN4_debias_T1 = os.path.join(wf_path,\"N4_debias_T1.png\")\n\ncmd = \"fsleyes render --outfile {} --size 1800 600 {} -cm Render3\".format(N4_debias_T1, N4_debias_T1_file)\nos.system(cmd)\n\nimport matplotlib.pyplot as plt  # noqa\n\nfig, axs = plt.subplots(2, 1, figsize=(36, 24))\naxs[0].imshow(plt.imread(debiased_mask_T1))\naxs[0].axis('off')\n\naxs[1].imshow(plt.imread(N4_debias_T1))\naxs[1].axis('off')\n\nplt.show()"
      ]
    },
    {
      "cell_type": "markdown",
      "metadata": {},
      "source": [
        "register template to subject\n==============================\n\n"
      ]
    },
    {
      "cell_type": "code",
      "execution_count": null,
      "metadata": {
        "collapsed": false
      },
      "outputs": [],
      "source": [
        "deoblique_T1_file = os.path.join(\n     seg_pipe, \"register_NMT_pipe\",  \"deoblique\",\n    \"sub-Apache_ses-01_T1w_cropped_noise_corrected_maths_masked_corrected.nii.gz\")\n\nreg_template_mask_to_T1_file = os.path.join(\n    seg_pipe, \"register_NMT_pipe\", \"align_NMT\",\n    \"NMT_allineate.nii.gz\")\n\nreg_template_mask_to_T1 = os.path.join(wf_path,\"reg_template_mask_to_T1.png\")\n\ncmd = \"fsleyes render --outfile {} --size 1800 600 {} {} -a 50\".format(\n    reg_template_mask_to_T1, deoblique_T1_file, reg_template_mask_to_T1_file)\n\nos.system(cmd)\n\nimport matplotlib.pyplot as plt  # noqa\nimg = plt.imread(reg_template_mask_to_T1)\nplt.figure(figsize=(36, 12))\nplt.imshow(img)\nplt.axis('off')\nplt.show()"
      ]
    },
    {
      "cell_type": "markdown",
      "metadata": {},
      "source": [
        "segmentation results by tissue\n================================\n\n"
      ]
    },
    {
      "cell_type": "code",
      "execution_count": null,
      "metadata": {
        "collapsed": false
      },
      "outputs": [],
      "source": [
        "csf_file = os.path.join(seg_pipe, \"segment_atropos_pipe\", \"threshold_csf\", \"segment_SegmentationPosteriors01_thresh.nii.gz\")\ngm_file = os.path.join(seg_pipe, \"segment_atropos_pipe\", \"threshold_gm\", \"segment_SegmentationPosteriors02_thresh.nii.gz\")\nwm_file = os.path.join(seg_pipe, \"segment_atropos_pipe\", \"threshold_wm\", \"segment_SegmentationPosteriors03_thresh.nii.gz\")\n\nsegmentation_sep = os.path.join(wf_path,\"segmentation_sep.png\")\ncmd = \"fsleyes render --outfile {} --size 1800 600 {} {} -cm red -a 30 {} -cm blue -a 30 {} -cm green -a 30\".format(segmentation_sep, debiased_mask_T1_file, gm_file, wm_file, csf_file)\nos.system(cmd)\n\nimport matplotlib.pyplot as plt  # noqa\nimg = plt.imread(segmentation_sep)\nplt.figure(figsize=(36, 12))\nplt.imshow(img)\nplt.axis('off')\nplt.show()"
      ]
    }
  ],
  "metadata": {
    "kernelspec": {
      "display_name": "Python 3",
      "language": "python",
      "name": "python3"
    },
    "language_info": {
      "codemirror_mode": {
        "name": "ipython",
        "version": 3
      },
      "file_extension": ".py",
      "mimetype": "text/x-python",
      "name": "python",
      "nbconvert_exporter": "python",
      "pygments_lexer": "ipython3",
      "version": "3.6.10"
    }
  },
  "nbformat": 4,
  "nbformat_minor": 0
}