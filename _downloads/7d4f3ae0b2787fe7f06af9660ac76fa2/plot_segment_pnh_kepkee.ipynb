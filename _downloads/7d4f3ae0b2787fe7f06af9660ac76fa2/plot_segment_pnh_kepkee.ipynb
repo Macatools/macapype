{
  "cells": [
    {
      "cell_type": "code",
      "execution_count": null,
      "metadata": {
        "collapsed": false
      },
      "outputs": [],
      "source": [
        "%matplotlib inline"
      ]
    },
    {
      "cell_type": "markdown",
      "metadata": {},
      "source": [
        "\n\n# Plot the results of a segmentation\n\n\n"
      ]
    },
    {
      "cell_type": "code",
      "execution_count": null,
      "metadata": {
        "collapsed": false
      },
      "outputs": [],
      "source": [
        "# Authors: David Meunier <david_meunier_79@hotmail.fr>\n\n# License: BSD (3-clause)\n# sphinx_gallery_thumbnail_number = 2\nimport os\nimport os.path as op\n\nimport nipype.pipeline.engine as pe\n\nfrom nipype.interfaces.utility import IdentityInterface\nimport nipype.interfaces.io as nio"
      ]
    },
    {
      "cell_type": "markdown",
      "metadata": {},
      "source": [
        "Running workflow\n==================\n\n"
      ]
    },
    {
      "cell_type": "code",
      "execution_count": null,
      "metadata": {
        "collapsed": false
      },
      "outputs": [],
      "source": [
        "#from macapype.utils.utils_tests import load_test_data\n#from macapype.pipelines.full_segment import create_full_segment_pnh_subpipes\n\n#my_path = \"/hpc/crise/meunier.d/\"\n\n#data_path = load_test_data(\"data_test_macapype\", path_to = my_path)\n\n### data file\n#T1_file = op.join(data_path, \"sub-Apache_ses-01_T1w.nii\")\n#T2_file = op.join(data_path, \"sub-Apache_ses-01_T2w.nii\")\n\n#from macapype.utils.utils_tests import load_test_data\n\n#nmt_dir = load_test_data('NMT_v1.2', path_to = my_path)\n#atlasbrex_dir = load_test_data('AtlasBREX', path_to = my_path)\n\n### running workflow\n#segment_pnh = create_full_segment_pnh_subpipes(nmt_dir, atlasbrex_dir)\n#segment_pnh.base_dir = my_path\n\n#segment_pnh.inputs.inputnode.T1 = T1_file\n#segment_pnh.inputs.inputnode.T2 = T2_file\n\n\n#segment_pnh.write_graph(graph2use=\"colored\")\n#segment_pnh.run()"
      ]
    },
    {
      "cell_type": "markdown",
      "metadata": {},
      "source": [
        "Testing plot in local\n=======================\n\n"
      ]
    },
    {
      "cell_type": "code",
      "execution_count": null,
      "metadata": {
        "collapsed": false
      },
      "outputs": [],
      "source": [
        "my_path = \"/home/INT/meunier.d/Data/Primavoice/\"\nwf_path = os.path.join(my_path, \"segment_pnh_subpipes\")\n\nT1_file = op.join(wf_path, \"preproc\", \"sub-Apache_ses-01_T1w_cropped.nii.gz\")\nassert os.path.exists(T1_file)\n\n# displaying results\noutfile_T1 = os.path.join(wf_path, \"outfile_T1.png\")\ncmd = \"fsleyes render --outfile {} --size 1800 600 {}\".format(outfile_T1, T1_file)\nos.system(cmd)\n\nimport matplotlib.pyplot as plt  # noqa\nimg = plt.imread(outfile_T1)\nplt.figure(figsize=(16, 16))\nplt.imshow(img)\nplt.axis('off')\nplt.show()"
      ]
    },
    {
      "cell_type": "markdown",
      "metadata": {},
      "source": [
        "Correct bias results\n==========================\n\n"
      ]
    },
    {
      "cell_type": "code",
      "execution_count": null,
      "metadata": {
        "collapsed": false
      },
      "outputs": [],
      "source": [
        "debiased_T1_file = op.join(wf_path, \"correct_bias_pipe\", \"restore_T1\",\n                           \"sub-Apache_ses-01_T1w_cropped_maths.nii.gz\")\n\n\ndebiased_T1 = os.path.join(wf_path,\"debiased_T1.png\")\n\ncmd = \"fsleyes render --outfile {} --size 1800 600 {}\".format(debiased_T1, debiased_T1_file)\nos.system(cmd)\n\nimport matplotlib.pyplot as plt  # noqa\nimg = plt.imread(outfile_T1)\n\nfig, axs = plt.subplots(2, 1, figsize=(24, 16))\naxs[0].imshow(plt.imread(outfile_T1))\naxs[0].axis('off')\n\naxs[1].imshow(plt.imread(debiased_T1))\naxs[1].axis('off')\nplt.show()"
      ]
    },
    {
      "cell_type": "markdown",
      "metadata": {},
      "source": [
        "Brain extraction results\n==========================\n\n"
      ]
    },
    {
      "cell_type": "code",
      "execution_count": null,
      "metadata": {
        "collapsed": false
      },
      "outputs": [],
      "source": [
        "# At the end 1st part pipeline\nmask_file = os.path.join(\n    wf_path, \"devel_atlas_brex\", \"smooth_mask\",\n    \"sub-Apache_ses-01_T1w_cropped_maths_noise_corrected_brain_bin_bin.nii.gz\")\n\noutput_img_overlay = os.path.join(wf_path,\"outfile_overlay.png\")\n#cmd = \"fsleyes render --outfile {} --size 800 600 {} -ot mask -o -a 50 {}\".format(output_img_overlay, mask_file, T1_file)\ncmd = \"fsleyes render --outfile {} --size 800 600 {} {} -a 50\".format(output_img_overlay, T1_file, mask_file)\nos.system(cmd)\n\nimport matplotlib.pyplot as plt  # noqa\nimg = plt.imread(output_img_overlay)\nplt.figure(figsize=(16, 16))\nplt.imshow(img)\nplt.axis('off')\nplt.show()"
      ]
    },
    {
      "cell_type": "markdown",
      "metadata": {},
      "source": [
        "Second part of the pipeline\n##############################################################################\n\n"
      ]
    },
    {
      "cell_type": "code",
      "execution_count": null,
      "metadata": {
        "collapsed": false
      },
      "outputs": [],
      "source": [
        "seg_pipe = op.join(wf_path, \"segment_devel_NMT_sub_align\")"
      ]
    },
    {
      "cell_type": "markdown",
      "metadata": {},
      "source": [
        "debias T1xT2 and debias N4\n=============================\n\n"
      ]
    },
    {
      "cell_type": "code",
      "execution_count": null,
      "metadata": {
        "collapsed": false
      },
      "outputs": [],
      "source": [
        "denoised_T1_file = os.path.join(seg_pipe, \"denoised_pipe\", \"denoise_T1\",\n                           \"sub-Apache_ses-01_T1w_cropped_noise_corrected.nii.gz\")\n\n\ndenoised_T1 = os.path.join(wf_path,\"denoised_T1.png\")\n\ncmd = \"fsleyes render --outfile {} --size 1800 600 {} -cm Render3\".format(denoised_T1, denoised_T1_file)\nos.system(cmd)\n\ndebiased_mask_T1_file = os.path.join(seg_pipe, \"masked_correct_bias_pipe\", \"restore_mask_T1\",\n                         \"sub-Apache_ses-01_T1w_cropped_noise_corrected_maths_masked.nii.gz\")\n\ndebiased_mask_T1 = os.path.join(wf_path,\"debiased_mask_T1.png\")\n\ncmd = \"fsleyes render --outfile {} --size 1800 600 {} -cm Render3\".format(debiased_mask_T1, debiased_mask_T1_file)\nos.system(cmd)\n\n\nN4_debias_T1_file = os.path.join(seg_pipe, \"register_NMT_pipe\", \"norm_intensity\",\n                         \"sub-Apache_ses-01_T1w_cropped_noise_corrected_maths_masked_corrected.nii.gz\")\n\nN4_debias_T1 = os.path.join(wf_path,\"N4_debias_T1.png\")\n\ncmd = \"fsleyes render --outfile {} --size 1800 600 {} -cm Render3\".format(N4_debias_T1, N4_debias_T1_file)\nos.system(cmd)\n\nimport matplotlib.pyplot as plt  # noqa\n\nfig, axs = plt.subplots(3, 1, figsize=(36, 16))\naxs[0].imshow(plt.imread(denoised_T1))\naxs[0].axis('off')\n\naxs[1].imshow(plt.imread(debiased_mask_T1))\naxs[1].axis('off')\n\naxs[2].imshow(plt.imread(N4_debias_T1))\naxs[2].axis('off')\nplt.show()"
      ]
    },
    {
      "cell_type": "markdown",
      "metadata": {},
      "source": [
        "register template to subject\n==============================\n\n"
      ]
    },
    {
      "cell_type": "code",
      "execution_count": null,
      "metadata": {
        "collapsed": false
      },
      "outputs": [],
      "source": [
        "reg_template_to_T1_file = os.path.join(seg_pipe, \"register_NMT_pipe\", \"NMT_subject_align\", \"sub-Apache_ses-01_T1w_cropped_noise_corrected_maths_masked_corrected_shft_aff.nii.gz\")\n\nreg_template_to_T1 = os.path.join(wf_path,\"reg_template_to_T1_file.png\")\n\n\ncmd = \"fsleyes render --outfile {} --size 1800 600 {} {} -a 50\".format(reg_template_to_T1, reg_template_to_T1_file, N4_debias_T1_file)\nos.system(cmd)\n\nimport matplotlib.pyplot as plt  # noqa\nimg = plt.imread(reg_template_to_T1)\nplt.figure(figsize=(8, 8))\nplt.imshow(img)\nplt.axis('off')\nplt.show()"
      ]
    },
    {
      "cell_type": "markdown",
      "metadata": {},
      "source": [
        "results of deoblique\n===========================\n\n"
      ]
    },
    {
      "cell_type": "code",
      "execution_count": null,
      "metadata": {
        "collapsed": false
      },
      "outputs": [],
      "source": [
        "## showing mask\nT1_file = os.path.join(\n   seg_pipe,\"register_NMT_pipe\", \"norm_intensity/\",\n   \"sub-Apache_ses-01_T1w_cropped_noise_corrected_maths_masked_corrected.nii.gz\")\n\ndeoblique_T1_file = os.path.join(\n    seg_pipe,\"segment_atropos_pipe\", \"deoblique/\",\n    \"sub-Apache_ses-01_T1w_cropped_noise_corrected_maths_masked_corrected.nii.gz\")\n\noutfile_deoblique = os.path.join(wf_path,\"outfile_deoblique.png\")\ncmd = \"fsleyes render --outfile {} --size 1800 600 {} -a 50 {} -a 50\".format(outfile_deoblique, T1_file, deoblique_T1_file)\nos.system(cmd)\n\nimport matplotlib.pyplot as plt  # noqa\nimg = plt.imread(outfile_deoblique)\nplt.figure(figsize=(8, 8))\nplt.imshow(img)\nplt.axis('off')\nplt.show()"
      ]
    },
    {
      "cell_type": "markdown",
      "metadata": {},
      "source": [
        "segmentation results\n==========================\n\n"
      ]
    },
    {
      "cell_type": "code",
      "execution_count": null,
      "metadata": {
        "collapsed": false
      },
      "outputs": [],
      "source": [
        "# showing tissues with all different colors\n\n#gm_file = os.path.join(seg_pipe, \"segment_atropos_pipe\", \"seg_at\", \"NMT_segmentation_GM_allineate.nii.gz\")\n#wm_file = os.path.join(seg_pipe, \"segment_atropos_pipe\", \"seg_at\", \"NMT_segmentation_WM_allineate.nii.gz\")\n#csf_file = os.path.join(seg_pipe, \"segment_atropos_pipe\", \"seg_at\", \"NMT_segmentation_CSF_allineate.nii.gz\")\n\ntissue_file = os.path.join(seg_pipe, \"segment_atropos_pipe\", \"seg_at\", \"segment_Segmentation.nii.gz\")\ngm_file = os.path.join(seg_pipe, \"segment_atropos_pipe\", \"seg_at\", \"segment_SegmentationPosteriors01.nii.gz\")\nwm_file = os.path.join(seg_pipe, \"segment_atropos_pipe\", \"seg_at\", \"segment_SegmentationPosteriors02.nii.gz\")\ncsf_file = os.path.join(seg_pipe, \"segment_atropos_pipe\", \"seg_at\", \"segment_SegmentationPosteriors03.nii.gz\")\n\noutfile_deoblique = os.path.join(wf_path,\"outfile_deoblique.png\")\ncmd = \"fsleyes render --outfile {} --size 1800 600 {} {} -dr 0 4 -cm random -a 30\".format(outfile_deoblique, deoblique_T1_file, tissue_file)\nos.system(cmd)\n\nimport matplotlib.pyplot as plt  # noqa\nimg = plt.imread(outfile_deoblique)\nplt.figure(figsize=(8, 8))\nplt.imshow(img)\nplt.axis('off')\nplt.show()"
      ]
    }
  ],
  "metadata": {
    "kernelspec": {
      "display_name": "Python 3",
      "language": "python",
      "name": "python3"
    },
    "language_info": {
      "codemirror_mode": {
        "name": "ipython",
        "version": 3
      },
      "file_extension": ".py",
      "mimetype": "text/x-python",
      "name": "python",
      "nbconvert_exporter": "python",
      "pygments_lexer": "ipython3",
      "version": "3.6.10"
    }
  },
  "nbformat": 4,
  "nbformat_minor": 0
}