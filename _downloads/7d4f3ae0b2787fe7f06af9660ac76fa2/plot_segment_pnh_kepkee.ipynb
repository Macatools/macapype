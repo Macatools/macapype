{
  "cells": [
    {
      "cell_type": "code",
      "execution_count": null,
      "metadata": {
        "collapsed": false
      },
      "outputs": [],
      "source": [
        "%matplotlib inline"
      ]
    },
    {
      "cell_type": "markdown",
      "metadata": {},
      "source": [
        "\n\n# Plot the results of a segmentation\n\n\n"
      ]
    },
    {
      "cell_type": "code",
      "execution_count": null,
      "metadata": {
        "collapsed": false
      },
      "outputs": [],
      "source": [
        "# Authors: David Meunier <david_meunier_79@hotmail.fr>\n\n# License: BSD (3-clause)\n# sphinx_gallery_thumbnail_number = 2\nimport os\nimport os.path as op\n\nimport nipype.pipeline.engine as pe\n\nfrom nipype.interfaces.utility import IdentityInterface\nimport nipype.interfaces.io as nio"
      ]
    },
    {
      "cell_type": "markdown",
      "metadata": {},
      "source": [
        "# Load test data\n\n"
      ]
    },
    {
      "cell_type": "code",
      "execution_count": null,
      "metadata": {
        "collapsed": false
      },
      "outputs": [],
      "source": [
        "#from macapype.utils.utils_tests import load_test_data\n#from macapype.pipelines.full_segment import create_full_segment_pnh_subpipes\n\n#my_path = \"/hpc/crise/meunier.d/\"\n\n#data_path = load_test_data(\"data_test_macapype\", path_to = my_path)\n\n### data file\n#T1_file = op.join(data_path, \"sub-Apache_ses-01_T1w.nii\")\n#T2_file = op.join(data_path, \"sub-Apache_ses-01_T2w.nii\")\n\n#from macapype.utils.utils_tests import load_test_data\n\n#my_path = \"/hpc/crise/meunier.d\"\n\n#nmt_dir = load_test_data('NMT_v1.2', path_to = my_path)\n#atlasbrex_dir = load_test_data('AtlasBREX', path_to = my_path)\n\n### running workflow\n#segment_pnh = create_full_segment_pnh_subpipes(nmt_dir, atlasbrex_dir)\n#segment_pnh.base_dir = my_path\n\n#segment_pnh.inputs.inputnode.T1 = T1_file\n#segment_pnh.inputs.inputnode.T2 = T2_file\n\n#segment_pnh.run()"
      ]
    },
    {
      "cell_type": "markdown",
      "metadata": {},
      "source": [
        "Testing plot in local\n\n"
      ]
    },
    {
      "cell_type": "code",
      "execution_count": null,
      "metadata": {
        "collapsed": false
      },
      "outputs": [],
      "source": [
        "my_path = \"/home/INT/meunier.d/Data/Primavoice/\"\nwf_path = os.path.join(my_path, \"segment_pnh_subpipes\")\n\nT1_file = op.join(wf_path, \"preproc\", \"sub-Apache_ses-01_T1w_cropped.nii.gz\")\nassert os.path.exists(T1_file)\n\n# displaying results\noutput_img = os.path.join(wf_path, \"outfile.png\")\ncmd = \"fsleyes render --outfile {} --size 800 600 {}\".format(output_img, T1_file)\nos.system(cmd)\n\nimport matplotlib.pyplot as plt  # noqa\nimg = plt.imread(output_img)\nplt.figure(figsize=(16, 16))\nplt.imshow(img)\nplt.axis('off')\nplt.show()"
      ]
    },
    {
      "cell_type": "markdown",
      "metadata": {},
      "source": [
        "brain extraction results\n==========================\n\n"
      ]
    },
    {
      "cell_type": "code",
      "execution_count": null,
      "metadata": {
        "collapsed": false
      },
      "outputs": [],
      "source": [
        "# 1st part pipeline\n\nmask_file = os.path.join(\n    wf_path, \"devel_atlas_brex\", \"smooth_mask\",\n    \"sub-Apache_ses-01_T1w_cropped_maths_noise_corrected_brain_bin_bin.nii.gz\")\n\noutput_img_overlay = os.path.join(wf_path,\"outfile_overlay.png\")\n#cmd = \"fsleyes render --outfile {} --size 800 600 {} -ot mask -o -a 50 {}\".format(output_img_overlay, mask_file, T1_file)\ncmd = \"fsleyes render --outfile {} --size 800 600 {} {} -a 50\".format(output_img_overlay, T1_file, mask_file)\nos.system(cmd)\n\nimport matplotlib.pyplot as plt  # noqa\nimg = plt.imread(output_img_overlay)\nplt.figure(figsize=(16, 16))\nplt.imshow(img)\nplt.axis('off')\nplt.show()"
      ]
    },
    {
      "cell_type": "markdown",
      "metadata": {},
      "source": [
        "segmentation results\n==========================\n\n"
      ]
    },
    {
      "cell_type": "code",
      "execution_count": null,
      "metadata": {
        "collapsed": false
      },
      "outputs": [],
      "source": [
        "seg_pipe = op.join(wf_path, \"segment_devel_NMT_sub_align\")\n\n## showing mask\nreg_T1_file = os.path.join(\n    seg_pipe,\"register_NMT_pipe\", \"norm_intensity/\",\n    \"sub-Apache_ses-01_T1w_cropped_noise_corrected_maths_masked_corrected.nii.gz\")\n\n##filled_mask_file = os.path.join(segment_path, \"fill_holes_dil\", \"c1sub-Apache_ses-01_T1w_cropped_debiased_brain_FLIRT-to_inia19-t1-brain_thresh_maths_maths_dil_filled.nii.gz\")\n\n#outfile_reg_mask = os.path.join(wf_path,\"outfile_reg_mask.png\")\n##cmd = \"fsleyes render --outfile {} --size 800 600 {} -ot mask -o -a 50 {}\".format(outfile_reg_mask, mask_file, T1_file)\n#cmd = \"fsleyes render --outfile {} --size 800 600 {} {} -a 50\".format(outfile_reg_mask, T1_file, filled_mask_file)\n#os.system(cmd)\n\n#import matplotlib.pyplot as plt  # noqa\n#img = plt.imread(outfile_reg_mask)\n#plt.figure(figsize=(16, 16))\n#plt.imshow(img)\n#plt.axis('off')\n#plt.show()\n\n# showing tissues\ngm_file = os.path.join(seg_pipe, \"segment_atropos_pipe\", \"seg_at\", \"NMT_segmentation_GM_allineate.nii.gz\")\nwm_file = os.path.join(seg_pipe, \"segment_atropos_pipe\", \"seg_at\", \"NMT_segmentation_WM_allineate.nii.gz\")\ncsf_file = os.path.join(seg_pipe, \"segment_atropos_pipe\", \"seg_at\", \"NMT_segmentation_CSF_allineate.nii.gz\")"
      ]
    },
    {
      "cell_type": "markdown",
      "metadata": {},
      "source": [
        "gm as red\n\n"
      ]
    },
    {
      "cell_type": "code",
      "execution_count": null,
      "metadata": {
        "collapsed": false
      },
      "outputs": [],
      "source": [
        "outfile_seg_red = os.path.join(wf_path,\"outfile_seg_red.png\")\ncmd = \"fsleyes render --outfile {} --size 800 600 {} {} -cm red\".format(outfile_seg_red, reg_T1_file, gm_file)\nos.system(cmd)\n\nimport matplotlib.pyplot as plt  # noqa\nimg = plt.imread(outfile_seg_red)\nplt.figure(figsize=(16, 16))\nplt.imshow(img)\nplt.axis('off')\nplt.show()"
      ]
    },
    {
      "cell_type": "markdown",
      "metadata": {},
      "source": [
        "all different colors\n\n"
      ]
    },
    {
      "cell_type": "code",
      "execution_count": null,
      "metadata": {
        "collapsed": false
      },
      "outputs": [],
      "source": [
        "outfile_seg_col = os.path.join(wf_path,\"outfile_seg_col.png\")\ncmd = \"fsleyes render --outfile {} --size 800 600 {} {} -cm red -a 33 {} -cm blue -a 33 {} -cm green -a 33\".format(outfile_seg_col, reg_T1_file, gm_file, wm_file, csf_file)\n#cmd = \"fsleyes render --outfile {} --size 800 600 {} {} -cm red\".format(outfile_seg_col, reg_T1_file, gm_file)\nos.system(cmd)\n\nimport matplotlib.pyplot as plt  # noqa\nimg = plt.imread(outfile_seg_col)\nplt.figure(figsize=(16, 16))\nplt.imshow(img)\nplt.axis('off')\nplt.show()"
      ]
    }
  ],
  "metadata": {
    "kernelspec": {
      "display_name": "Python 3",
      "language": "python",
      "name": "python3"
    },
    "language_info": {
      "codemirror_mode": {
        "name": "ipython",
        "version": 3
      },
      "file_extension": ".py",
      "mimetype": "text/x-python",
      "name": "python",
      "nbconvert_exporter": "python",
      "pygments_lexer": "ipython3",
      "version": "3.6.10"
    }
  },
  "nbformat": 4,
  "nbformat_minor": 0
}