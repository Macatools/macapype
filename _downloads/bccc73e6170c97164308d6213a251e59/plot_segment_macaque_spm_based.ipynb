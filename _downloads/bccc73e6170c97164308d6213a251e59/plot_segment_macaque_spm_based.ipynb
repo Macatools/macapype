{
  "cells": [
    {
      "cell_type": "code",
      "execution_count": null,
      "metadata": {
        "collapsed": false
      },
      "outputs": [],
      "source": [
        "%matplotlib inline"
      ]
    },
    {
      "cell_type": "markdown",
      "metadata": {},
      "source": [
        "\n\n# Plot the results of a segmentation with SPM-based pipeline T1xT2\n"
      ]
    },
    {
      "cell_type": "code",
      "execution_count": null,
      "metadata": {
        "collapsed": false
      },
      "outputs": [],
      "source": [
        "# Authors: David Meunier, Bastien Cagna\n\n# License: BSD (3-clause)\n# sphinx_gallery_thumbnail_number = 2\n\nimport os\nimport os.path as op\n\nimport nipype.pipeline.engine as pe\n\nfrom nipype.interfaces.utility import IdentityInterface\nimport nipype.interfaces.io as nio\n\nfrom macapype.utils.utils_tests import load_test_data"
      ]
    },
    {
      "cell_type": "markdown",
      "metadata": {},
      "source": [
        "## Testing plot in local\n\n"
      ]
    },
    {
      "cell_type": "code",
      "execution_count": null,
      "metadata": {
        "collapsed": false
      },
      "outputs": [],
      "source": [
        "data_path = load_test_data(\"data_test_macaque_processed\")\n\n# displaying results\nwf_path = os.path.join(data_path, \"example_segment_macaque_spm_based\")\n\ngraph = os.path.join(wf_path, \"graph.png\")\n\nimport matplotlib.pyplot as plt  # noqa\nimg = plt.imread(graph)\nplt.figure(figsize=(36, 72))\nplt.imshow(img)\nplt.axis('off')\nplt.show()"
      ]
    },
    {
      "cell_type": "markdown",
      "metadata": {},
      "source": [
        "## Data preparation\n\n"
      ]
    },
    {
      "cell_type": "markdown",
      "metadata": {},
      "source": [
        "### results of cropping\n\n"
      ]
    },
    {
      "cell_type": "code",
      "execution_count": null,
      "metadata": {
        "collapsed": false
      },
      "outputs": [],
      "source": [
        "cropped_T1_file = op.join(wf_path, \"old_data_preparation_pipe\", \"bet_crop\", \"sub-Apache_ses-01_T1w_cropped.nii.gz\")\n\nassert op.exists(cropped_T1_file), \"Error with {}\".format(cropped_T1_file)\n\n# displaying results\ncropped_T1 = os.path.join(wf_path, \"cropped_T1.png\")\ncmd = \"fsleyes render --outfile {} --size 1800 600 {}\".format(cropped_T1, cropped_T1_file)\nos.system(cmd)"
      ]
    },
    {
      "cell_type": "markdown",
      "metadata": {},
      "source": [
        "### results of denoising\n\n"
      ]
    },
    {
      "cell_type": "code",
      "execution_count": null,
      "metadata": {
        "collapsed": false
      },
      "outputs": [],
      "source": [
        "denoised_T1_file = os.path.join(wf_path, \"old_data_preparation_pipe\", \"denoise_T1\",\n                           \"sub-Apache_ses-01_T1w_cropped_noise_corrected.nii.gz\")\n\nassert op.exists(denoised_T1_file), \"Error with {}\".format(denoised_T1_file)\n\n\ndenoised_T1 = os.path.join(wf_path,\"denoised_T1.png\")\n\ncmd = \"fsleyes render --outfile {} --size 1800 600 {}\".format(denoised_T1, denoised_T1_file)\nos.system(cmd)"
      ]
    },
    {
      "cell_type": "markdown",
      "metadata": {},
      "source": [
        "### brain extraction results\n\n"
      ]
    },
    {
      "cell_type": "code",
      "execution_count": null,
      "metadata": {
        "collapsed": false
      },
      "outputs": [],
      "source": [
        "bet_mask_file = op.join(wf_path, \"old_data_preparation_pipe\", \"bet_crop\", \"sub-Apache_ses-01_T1w_BET_mask_cropped.nii.gz\")\n\nassert os.path.exists(bet_mask_file)\n\nbet_mask = os.path.join(wf_path,\"bet_mask.png\")\ncmd = \"fsleyes render --outfile {} --size 1800 600 {} {} -cm blue -a 50\".format(bet_mask, cropped_T1_file, bet_mask_file)\nos.system(cmd)\n\nimport matplotlib.pyplot as plt  # noqa\nimg = plt.imread(bet_mask)\nplt.figure(figsize=(36, 12))\nplt.imshow(img)\nplt.axis('off')\nplt.show()"
      ]
    },
    {
      "cell_type": "markdown",
      "metadata": {},
      "source": [
        "### Correct bias results\n\n"
      ]
    },
    {
      "cell_type": "code",
      "execution_count": null,
      "metadata": {
        "collapsed": false
      },
      "outputs": [],
      "source": [
        "debiased_brain_file = op.join(wf_path, \"debias\",\n                           \"sub-Apache_ses-01_T1w_cropped_noise_corrected_debiased_brain.nii.gz\")\n\ndebiased_T1 = os.path.join(wf_path,\"debiased_T1_brain.png\")\ncmd = \"fsleyes render --outfile {} --size 1800 600 {} \".format(debiased_T1, debiased_brain_file)\nos.system(cmd)\n\nimport matplotlib.pyplot as plt  # noqa\nfig, axs = plt.subplots(3, 1, figsize=(36, 36))\naxs[0].imshow(plt.imread(cropped_T1))\naxs[0].axis('off')\n\naxs[1].imshow(plt.imread(denoised_T1))\naxs[1].axis('off')\n\naxs[2].imshow(plt.imread(debiased_T1))\naxs[2].axis('off')\n\nplt.show()"
      ]
    },
    {
      "cell_type": "markdown",
      "metadata": {},
      "source": [
        "### registration results\n\n"
      ]
    },
    {
      "cell_type": "code",
      "execution_count": null,
      "metadata": {
        "collapsed": false
      },
      "outputs": [],
      "source": [
        "reg_T1_file = op.join(wf_path,\"reg\", \"sub-Apache_ses-01_T1w_cropped_noise_corrected_debiased_brain_FLIRT-to_inia19-t1-brain.nii\")\nassert os.path.exists(reg_T1_file)\n\n# showing mask\nsegment_path = os.path.join(wf_path, \"old_segment_pipe\")\n\nfilled_mask_file = os.path.join(segment_path, \"fill_holes\", \"c1sub-Apache_ses-01_T1w_cropped_noise_corrected_debiased_brain_FLIRT-to_inia19-t1-brain_thresh_maths_maths_ero_filled.nii.gz\")\nassert os.path.exists(filled_mask_file)\n\n#filled_mask_file = os.path.join(segment_path, \"fill_holes_dil\", \"c1sub-Apache_ses-01_T1w_cropped_debiased_brain_FLIRT-to_inia19-t1-brain_thresh_maths_maths_dil_filled.nii.gz\")\n\noutfile_seg_mask = os.path.join(wf_path,\"outfile_seg_mask.png\")\ncmd = \"fsleyes render --outfile {} --size 1800 600 {} {} -a 50\".format(outfile_seg_mask, reg_T1_file, filled_mask_file)\nos.system(cmd)\n\nimport matplotlib.pyplot as plt  # noqa\nimg = plt.imread(outfile_seg_mask)\nplt.figure(figsize=(36, 12))\nplt.imshow(img)\nplt.axis('off')\nplt.show()"
      ]
    },
    {
      "cell_type": "markdown",
      "metadata": {},
      "source": [
        "### segmentation results\n\n"
      ]
    },
    {
      "cell_type": "code",
      "execution_count": null,
      "metadata": {
        "collapsed": false
      },
      "outputs": [],
      "source": [
        "gm_file = os.path.join(segment_path, \"threshold_gm\", \"c1sub-Apache_ses-01_T1w_cropped_noise_corrected_debiased_brain_FLIRT-to_inia19-t1-brain_thresh.nii.gz\")\nwm_file = os.path.join(segment_path, \"threshold_wm\", \"c2sub-Apache_ses-01_T1w_cropped_noise_corrected_debiased_brain_FLIRT-to_inia19-t1-brain_thresh.nii.gz\")\ncsf_file = os.path.join(segment_path, \"threshold_csf\", \"c3sub-Apache_ses-01_T1w_cropped_noise_corrected_debiased_brain_FLIRT-to_inia19-t1-brain_thresh.nii.gz\")\n\nassert os.path.exists(gm_file)\nassert os.path.exists(wm_file)\nassert os.path.exists(csf_file)\n\noutfile_seg_col = os.path.join(wf_path,\"outfile_seg_col.png\")\ncmd = \"fsleyes render --outfile {} --size 1800 600 {} {} {} {}\".format(outfile_seg_col, reg_T1_file, gm_file, wm_file, csf_file)\ncmd = \"fsleyes render --outfile {} --size 1800 600 {} {} -cm red {} -cm blue {} -cm green\".format(outfile_seg_col, reg_T1_file, gm_file, wm_file, csf_file)\nos.system(cmd)\n\nimport matplotlib.pyplot as plt  # noqa\nimg = plt.imread(outfile_seg_col)\nplt.figure(figsize=(36, 12))\nplt.imshow(img)\nplt.axis('off')\nplt.show()"
      ]
    }
  ],
  "metadata": {
    "kernelspec": {
      "display_name": "Python 3",
      "language": "python",
      "name": "python3"
    },
    "language_info": {
      "codemirror_mode": {
        "name": "ipython",
        "version": 3
      },
      "file_extension": ".py",
      "mimetype": "text/x-python",
      "name": "python",
      "nbconvert_exporter": "python",
      "pygments_lexer": "ipython3",
      "version": "3.7.9"
    }
  },
  "nbformat": 4,
  "nbformat_minor": 0
}