{
  "cells": [
    {
      "cell_type": "code",
      "execution_count": null,
      "metadata": {
        "collapsed": false
      },
      "outputs": [],
      "source": [
        "%matplotlib inline"
      ]
    },
    {
      "cell_type": "markdown",
      "metadata": {},
      "source": [
        "\n\n# Plot the results of a segmentation\n\n\n"
      ]
    },
    {
      "cell_type": "code",
      "execution_count": null,
      "metadata": {
        "collapsed": false
      },
      "outputs": [],
      "source": [
        "# Authors: David Meunier <david_meunier_79@hotmail.fr>\n\n# License: BSD (3-clause)\n# sphinx_gallery_thumbnail_number = 2\n\nimport os\nimport os.path as op\n\nimport json\nimport pprint\n\nimport nipype.pipeline.engine as pe\n\nfrom nipype.interfaces.utility import IdentityInterface\nimport nipype.interfaces.io as nio"
      ]
    },
    {
      "cell_type": "markdown",
      "metadata": {},
      "source": [
        "Running workflow\n==================\n\n"
      ]
    },
    {
      "cell_type": "code",
      "execution_count": null,
      "metadata": {
        "collapsed": false
      },
      "outputs": [],
      "source": [
        "#from macapype.utils.utils_tests import load_test_data, format_template\n#from macapype.pipelines.full_segment import create_full_segment_pnh_subpipes\n\n\n#from macapype.utils.utils_tests import load_test_data\n\n#package_directory = os.path.dirname(os.path.abspath(__file__))\n#params_file = '{}/../workflows/params_segment_pnh_isabelle.json'.format(package_directory)\n#params = json.load(open(params_file))\n\n#print(params)\n#pprint.pprint(params)\n\n#if \"general\" in params.keys() and \"my_path\" in params[\"general\"].keys():\n    #my_path = params[\"general\"][\"my_path\"]\n#else:\n    ##my_path = \"/home/INT/meunier.d/Data/\"\n    #my_path = \"/hpc/crise/meunier.d/\"\n    ##my_path = \"/hpc/neopto/USERS/racicot/data/\"\n\n#nmt_dir = load_test_data('NMT_v1.2', path_to = my_path)\n#params_template = format_template(nmt_dir, 'NMT_v1.2')\n#print (params_template)\n\n\n#data_path = load_test_data(\"data_test_macapype\", path_to = my_path)\n\n## data file\n#T1_file = op.join(data_path, \"sub-ziggy_T1w.nii\")\n#T2_file = op.join(data_path, \"sub-ziggy_T2w.nii\")\n\n#atlasbrex_dir = load_test_data('AtlasBREX', path_to = my_path)\n\n## running workflow\n#segment_pnh = create_full_segment_pnh_subpipes(params=params,\n                                               #params_template=params_template,\n                                               #segment=False,\n                                               #name = \"segment_pnh_subpipes_ziggy\")\n#segment_pnh.base_dir = my_path\n\n#segment_pnh.inputs.inputnode.T1 = T1_file\n#segment_pnh.inputs.inputnode.T2 = T2_file\n\n#segment_pnh.write_graph(graph2use=\"colored\")\n#segment_pnh.run()\n\n#exit()"
      ]
    },
    {
      "cell_type": "markdown",
      "metadata": {},
      "source": [
        "# Reorient and cropping\n#==========================\n\n"
      ]
    },
    {
      "cell_type": "code",
      "execution_count": null,
      "metadata": {
        "collapsed": false
      },
      "outputs": [],
      "source": [
        "my_path = \"/home/INT/meunier.d/ownCloud/Data_tmp/isabelle/\"\nwf_path = os.path.join(my_path, \"segment_pnh_subpipes_ziggy\")\n\n\norig_T1_file = op.join(my_path, \"sub-ziggy_T1w.nii\")\n\nreoriented_T1_file = op.join(wf_path, \"preproc_pipe\", \"reorient_T1_pipe\", \"swap_dim\", \"sub-ziggy_T1w_newdims.nii.gz\")\n\ncropped_T1_file = op.join(wf_path, \"preproc_pipe\", \"align_crop\", \"sub-ziggy_T1w_newdims_cropped.nii.gz\")\n\n# displaying results\norig_T1 = os.path.join(wf_path, \"orig_T1.png\")\ncmd = \"fsleyes render --outfile {} --size 1800 600 {}\".format(orig_T1, orig_T1_file)\nos.system(cmd)\n\nreoriented_T1 = os.path.join(wf_path, \"reoriented_T1.png\")\ncmd = \"fsleyes render --outfile {} --size 1800 600 {}\".format(reoriented_T1, reoriented_T1_file)\nos.system(cmd)\n\ncropped_T1 = os.path.join(wf_path, \"cropped_T1.png\")\ncmd = \"fsleyes render --outfile {} --size 1800 600 {}\".format(cropped_T1, cropped_T1_file)\nos.system(cmd)\n\nimport matplotlib.pyplot as plt  # noqa\n\nfig, axs = plt.subplots(3, 1, figsize=(32, 16))\naxs[0].imshow(plt.imread(orig_T1))\naxs[0].axis('off')\n\naxs[1].imshow(plt.imread(reoriented_T1))\naxs[1].axis('off')\n\naxs[2].imshow(plt.imread(cropped_T1))\naxs[2].axis('off')\nplt.show()"
      ]
    }
  ],
  "metadata": {
    "kernelspec": {
      "display_name": "Python 3",
      "language": "python",
      "name": "python3"
    },
    "language_info": {
      "codemirror_mode": {
        "name": "ipython",
        "version": 3
      },
      "file_extension": ".py",
      "mimetype": "text/x-python",
      "name": "python",
      "nbconvert_exporter": "python",
      "pygments_lexer": "ipython3",
      "version": "3.6.10"
    }
  },
  "nbformat": 4,
  "nbformat_minor": 0
}