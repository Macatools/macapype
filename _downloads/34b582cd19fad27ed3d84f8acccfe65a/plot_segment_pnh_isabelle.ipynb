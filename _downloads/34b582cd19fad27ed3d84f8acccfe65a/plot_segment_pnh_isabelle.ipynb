{
  "cells": [
    {
      "cell_type": "code",
      "execution_count": null,
      "metadata": {
        "collapsed": false
      },
      "outputs": [],
      "source": [
        "%matplotlib inline"
      ]
    },
    {
      "cell_type": "markdown",
      "metadata": {},
      "source": [
        "\n\n# Plot the results of a segmentation\n\n\n"
      ]
    },
    {
      "cell_type": "code",
      "execution_count": null,
      "metadata": {
        "collapsed": false
      },
      "outputs": [],
      "source": [
        "# Authors: David Meunier <david_meunier_79@hotmail.fr>\n\n# License: BSD (3-clause)\n# sphinx_gallery_thumbnail_number = 2\n\nimport os\nimport os.path as op"
      ]
    },
    {
      "cell_type": "markdown",
      "metadata": {},
      "source": [
        "# Reorient and cropping\n#==========================\n\n"
      ]
    },
    {
      "cell_type": "code",
      "execution_count": null,
      "metadata": {
        "collapsed": false
      },
      "outputs": [],
      "source": [
        "my_path = \"/home/INT/meunier.d/ownCloud/Data_tmp/isabelle/\"\nwf_path = os.path.join(my_path, \"segment_pnh_subpipes_ziggy\")\n\n\norig_T1_file = op.join(my_path, \"sub-ziggy_T1w.nii\")\n\nreoriented_T1_file = op.join(wf_path, \"preproc_pipe\", \"reorient_T1_pipe\", \"swap_dim\", \"sub-ziggy_T1w_newdims.nii.gz\")\n\ncropped_T1_file = op.join(wf_path, \"preproc_pipe\", \"align_crop\", \"sub-ziggy_T1w_newdims_cropped.nii.gz\")\n\n# displaying results\norig_T1 = os.path.join(wf_path, \"orig_T1.png\")\ncmd = \"fsleyes render --outfile {} --size 1800 600 {}\".format(orig_T1, orig_T1_file)\nos.system(cmd)\n\nreoriented_T1 = os.path.join(wf_path, \"reoriented_T1.png\")\ncmd = \"fsleyes render --outfile {} --size 1800 600 {}\".format(reoriented_T1, reoriented_T1_file)\nos.system(cmd)\n\ncropped_T1 = os.path.join(wf_path, \"cropped_T1.png\")\ncmd = \"fsleyes render --outfile {} --size 1800 600 {}\".format(cropped_T1, cropped_T1_file)\nos.system(cmd)\n\nimport matplotlib.pyplot as plt  # noqa\n\nfig, axs = plt.subplots(3, 1, figsize=(32, 16))\naxs[0].imshow(plt.imread(orig_T1))\naxs[0].axis('off')\n\naxs[1].imshow(plt.imread(reoriented_T1))\naxs[1].axis('off')\n\naxs[2].imshow(plt.imread(cropped_T1))\naxs[2].axis('off')\nplt.show()"
      ]
    }
  ],
  "metadata": {
    "kernelspec": {
      "display_name": "Python 3",
      "language": "python",
      "name": "python3"
    },
    "language_info": {
      "codemirror_mode": {
        "name": "ipython",
        "version": 3
      },
      "file_extension": ".py",
      "mimetype": "text/x-python",
      "name": "python",
      "nbconvert_exporter": "python",
      "pygments_lexer": "ipython3",
      "version": "3.6.10"
    }
  },
  "nbformat": 4,
  "nbformat_minor": 0
}