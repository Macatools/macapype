{
  "cells": [
    {
      "cell_type": "code",
      "execution_count": null,
      "metadata": {
        "collapsed": false
      },
      "outputs": [],
      "source": [
        "%matplotlib inline"
      ]
    },
    {
      "cell_type": "markdown",
      "metadata": {},
      "source": [
        "\n\n# Plot the results of a segmentation of marmoset data T1w and T2w\n\n\n"
      ]
    },
    {
      "cell_type": "code",
      "execution_count": null,
      "metadata": {
        "collapsed": false
      },
      "outputs": [],
      "source": [
        "# Authors: David Meunier <david_meunier_79@hotmail.fr>\n\n# License: BSD (3-clause)\n# sphinx_gallery_thumbnail_number = 2\nimport os\nimport os.path as op\n\nimport json\nimport pprint"
      ]
    },
    {
      "cell_type": "markdown",
      "metadata": {},
      "source": [
        "Testing plot in local\n=======================\n\n"
      ]
    },
    {
      "cell_type": "code",
      "execution_count": null,
      "metadata": {
        "collapsed": false
      },
      "outputs": [],
      "source": [
        "data_path = \"/home/INT/meunier.d/Data/Marmopype/\"\nwf_path = os.path.join(data_path, \"test_NodeParams_marmo\")\n\ngraph = os.path.join(wf_path, \"graph.png\")\n\nimport matplotlib.pyplot as plt  # noqa\nimg = plt.imread(graph)\nplt.figure(figsize=(36, 72))\nplt.imshow(img)\nplt.axis('off')\nplt.show()"
      ]
    },
    {
      "cell_type": "markdown",
      "metadata": {},
      "source": [
        "Data preparation\n#############################################################################\n\n"
      ]
    },
    {
      "cell_type": "markdown",
      "metadata": {},
      "source": [
        "Cropping\n===========================\n\n"
      ]
    },
    {
      "cell_type": "code",
      "execution_count": null,
      "metadata": {
        "collapsed": false
      },
      "outputs": [],
      "source": [
        "cropped_T1_file = op.join(wf_path, \"data_preparation_pipe\", \"crop_bb_T1\", \"T1w_0p33mm_28_roi.nii.gz\")\n\n# displaying results\ncropped_T1 = os.path.join(wf_path, \"cropped_T1.png\")\ncmd = \"fsleyes render --outfile {} --size 1800 600 {}\".format(cropped_T1, cropped_T1_file)\nos.system(cmd)\n\nimport matplotlib.pyplot as plt  # noqa\nimg = plt.imread(cropped_T1)\nplt.figure(figsize=(36, 12))\nplt.imshow(img)\nplt.axis('off')\nplt.show()"
      ]
    },
    {
      "cell_type": "markdown",
      "metadata": {},
      "source": [
        "results of deoblique\n===========================\n\n"
      ]
    },
    {
      "cell_type": "code",
      "execution_count": null,
      "metadata": {
        "collapsed": false
      },
      "outputs": [],
      "source": [
        "## after deoblique\ndeoblique_T1_file = os.path.join(\n    wf_path, \"data_preparation_pipe\", \"deoblique_T1\",\n    \"T1w_0p33mm_28.nii\")\n\noutfile_deoblique = os.path.join(wf_path,\"outfile_deoblique.png\")\ncmd = \"fsleyes render --outfile {} --size 1800 600 {} -a 50 {} -a 50\".format(outfile_deoblique, cropped_T1_file, deoblique_T1_file)\nos.system(cmd)\n\nimport matplotlib.pyplot as plt  # noqa\nimg = plt.imread(outfile_deoblique)\nplt.figure(figsize=(36, 12))\nplt.imshow(img)\nplt.axis('off')\nplt.show()"
      ]
    },
    {
      "cell_type": "markdown",
      "metadata": {},
      "source": [
        "First part of the pipeline: brain extraction\n#############################################################################\n\n"
      ]
    },
    {
      "cell_type": "markdown",
      "metadata": {},
      "source": [
        "Correct bias results\n==========================\n\n"
      ]
    },
    {
      "cell_type": "code",
      "execution_count": null,
      "metadata": {
        "collapsed": false
      },
      "outputs": [],
      "source": [
        "debiased_T1_file = op.join(wf_path, \"brain_extraction_pipe\", \"correct_bias_pipe\", \"restore_T1\",\n                           \"T1w_0p33mm_28_roi_noise_corrected_maths.nii.gz\")\n\ndebiased_T1 = os.path.join(wf_path,\"debiased_T1.png\")\n\ncmd = \"fsleyes render --outfile {} --size 1800 600 {}\".format(debiased_T1, debiased_T1_file)\nos.system(cmd)\n\nimport matplotlib.pyplot as plt  # noqa\nfig, axs = plt.subplots(2, 1, figsize=(36, 24))\naxs[0].imshow(plt.imread(cropped_T1))\naxs[0].axis('off')\n\naxs[1].imshow(plt.imread(debiased_T1))\naxs[1].axis('off')\nplt.show()"
      ]
    },
    {
      "cell_type": "markdown",
      "metadata": {},
      "source": [
        "Brain extraction results\n==========================\n\n"
      ]
    },
    {
      "cell_type": "code",
      "execution_count": null,
      "metadata": {
        "collapsed": false
      },
      "outputs": [],
      "source": [
        "# At the end 1st part pipeline\nmask_file = os.path.join(\n    wf_path, \"brain_extraction_pipe\", \"extract_pipe\", \"smooth_mask\",\n    \"T1w_0p33mm_28_roi_noise_corrected_maths_brain_bin_bin.nii.gz\")\n\noutput_img_overlay = os.path.join(wf_path,\"outfile_overlay.png\")\n#cmd = \"fsleyes render --outfile {} --size 800 600 {} -ot mask -o -a 50 {}\".format(output_img_overlay, mask_file, T1_file)\ncmd = \"fsleyes render --outfile {} --size 800 600 {} {} -a 50\".format(output_img_overlay, cropped_T1_file, mask_file)\nos.system(cmd)\n\nimport matplotlib.pyplot as plt  # noqa\nimg = plt.imread(output_img_overlay)\nplt.figure(figsize=(36 , 12))\nplt.imshow(img)\nplt.axis('off')\nplt.show()"
      ]
    },
    {
      "cell_type": "markdown",
      "metadata": {},
      "source": [
        "Second part of the pipeline: segmentation\n#############################################################################\n\n"
      ]
    },
    {
      "cell_type": "code",
      "execution_count": null,
      "metadata": {
        "collapsed": false
      },
      "outputs": [],
      "source": [
        "seg_pipe = op.join(wf_path, \"brain_segment_from_mask_pipe\")"
      ]
    },
    {
      "cell_type": "markdown",
      "metadata": {},
      "source": [
        "debias T1xT2 and debias N4\n=============================\n\n"
      ]
    },
    {
      "cell_type": "code",
      "execution_count": null,
      "metadata": {
        "collapsed": false
      },
      "outputs": [],
      "source": [
        "denoised_T1_file = os.path.join(wf_path, \"data_preparation_pipe\", \"denoise_T1\",\n                           \"T1w_0p33mm_28_roi_noise_corrected.nii.gz\")\n\n\ndenoised_T1 = os.path.join(wf_path,\"denoised_T1.png\")\n\ncmd = \"fsleyes render --outfile {} --size 1800 600 {} -cm Render3\".format(denoised_T1, denoised_T1_file)\nos.system(cmd)\n\ndebiased_mask_T1_file = os.path.join(seg_pipe, \"masked_correct_bias_pipe\", \"restore_mask_T1\",\n                         \"T1w_0p33mm_28_roi_noise_corrected_maths_masked.nii.gz\")\n\ndebiased_mask_T1 = os.path.join(wf_path,\"debiased_mask_T1.png\")\n\ncmd = \"fsleyes render --outfile {} --size 1800 600 {} -cm Render3\".format(debiased_mask_T1, debiased_mask_T1_file)\nos.system(cmd)\n\n\nN4_debias_T1_file = os.path.join(seg_pipe, \"register_NMT_pipe\", \"norm_intensity\",\n                         \"T1w_0p33mm_28_roi_noise_corrected_maths_masked_corrected.nii.gz\")\n\nN4_debias_T1 = os.path.join(wf_path,\"N4_debias_T1.png\")\n\ncmd = \"fsleyes render --outfile {} --size 1800 600 {} -cm Render3\".format(N4_debias_T1, N4_debias_T1_file)\nos.system(cmd)\n\nimport matplotlib.pyplot as plt  # noqa\n\nfig, axs = plt.subplots(3, 1, figsize=(36, 12))\naxs[0].imshow(plt.imread(denoised_T1))\naxs[0].axis('off')\n\naxs[1].imshow(plt.imread(debiased_mask_T1))\naxs[1].axis('off')\n\naxs[2].imshow(plt.imread(N4_debias_T1))\naxs[2].axis('off')\nplt.show()"
      ]
    },
    {
      "cell_type": "markdown",
      "metadata": {},
      "source": [
        "register template to subject\n==============================\n\n"
      ]
    },
    {
      "cell_type": "code",
      "execution_count": null,
      "metadata": {
        "collapsed": false
      },
      "outputs": [],
      "source": [
        "reg_template_mask_to_T1_file = os.path.join(\n    seg_pipe, \"register_NMT_pipe\", \"align_NMT\",\n    \"Template_T1_allineate.nii.gz\")\n\nreg_template_mask_to_T1 = os.path.join(wf_path,\"reg_template_mask_to_T1.png\")\n\n\ncmd = \"fsleyes render --outfile {} --size 1800 600 {} {} -a 50 -cm blue\".format(\n    reg_template_mask_to_T1, reg_template_mask_to_T1_file, debiased_mask_T1_file)\n\nos.system(cmd)\n\nimport matplotlib.pyplot as plt  # noqa\nimg = plt.imread(reg_template_mask_to_T1)\nplt.figure(figsize=(36 , 12))\nplt.imshow(img)\nplt.axis('off')\nplt.show()"
      ]
    },
    {
      "cell_type": "markdown",
      "metadata": {},
      "source": [
        "# segmentation results\n#==========================\n\n"
      ]
    },
    {
      "cell_type": "code",
      "execution_count": null,
      "metadata": {
        "collapsed": false
      },
      "outputs": [],
      "source": [
        "#tissue_file = os.path.join(seg_pipe, \"segment_atropos_pipe\", \"seg_at\", \"segment_Segmentation.nii.gz\")\n#segmentation = os.path.join(wf_path,\"segmentation.png\")\n#cmd = \"fsleyes render --outfile {} --size 1800 600 {} {} -dr 0 4 -cm random -a 30\".format(segmentation, debiased_mask_T1_file, tissue_file)\n#os.system(cmd)\n\n#import matplotlib.pyplot as plt  # noqa\n#img = plt.imread(segmentation)\n#plt.figure(figsize=(36 , 12))\n#plt.imshow(img)\n#plt.axis('off')\n#plt.show()"
      ]
    },
    {
      "cell_type": "markdown",
      "metadata": {},
      "source": [
        "segmentation results by tissue\n================================\n\n"
      ]
    },
    {
      "cell_type": "code",
      "execution_count": null,
      "metadata": {
        "collapsed": false
      },
      "outputs": [],
      "source": [
        "csf_file = os.path.join(seg_pipe, \"segment_atropos_pipe\", \"threshold_csf\", \"segment_SegmentationPosteriors01_thresh.nii.gz\")\ngm_file = os.path.join(seg_pipe, \"segment_atropos_pipe\", \"threshold_gm\", \"segment_SegmentationPosteriors02_thresh.nii.gz\")\nwm_file = os.path.join(seg_pipe, \"segment_atropos_pipe\", \"threshold_wm\", \"segment_SegmentationPosteriors03_thresh.nii.gz\")\n\nsegmentation_sep = os.path.join(wf_path,\"segmentation_sep.png\")\ncmd = \"fsleyes render --outfile {} --size 1800 600 {} {} -cm red -a 30 {} -cm blue -a 30 {} -cm green -a 30\".format(segmentation_sep, debiased_mask_T1_file, gm_file, wm_file, csf_file)\nos.system(cmd)\n\nimport matplotlib.pyplot as plt  # noqa\nimg = plt.imread(segmentation_sep)\nplt.figure(figsize=(36 , 12))\nplt.imshow(img)\nplt.axis('off')\nplt.show()"
      ]
    }
  ],
  "metadata": {
    "kernelspec": {
      "display_name": "Python 3",
      "language": "python",
      "name": "python3"
    },
    "language_info": {
      "codemirror_mode": {
        "name": "ipython",
        "version": 3
      },
      "file_extension": ".py",
      "mimetype": "text/x-python",
      "name": "python",
      "nbconvert_exporter": "python",
      "pygments_lexer": "ipython3",
      "version": "3.6.10"
    }
  },
  "nbformat": 4,
  "nbformat_minor": 0
}