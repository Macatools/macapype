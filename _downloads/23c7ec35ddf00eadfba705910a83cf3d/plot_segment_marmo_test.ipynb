{
  "cells": [
    {
      "cell_type": "code",
      "execution_count": null,
      "metadata": {
        "collapsed": false
      },
      "outputs": [],
      "source": [
        "%matplotlib inline"
      ]
    },
    {
      "cell_type": "markdown",
      "metadata": {},
      "source": [
        "\n\n# Plot the results of a segmentation\n\n\n"
      ]
    },
    {
      "cell_type": "code",
      "execution_count": null,
      "metadata": {
        "collapsed": false
      },
      "outputs": [],
      "source": [
        "# Authors: David Meunier <david_meunier_79@hotmail.fr>\n\n# License: BSD (3-clause)\n# sphinx_gallery_thumbnail_number = 2\nimport os\nimport os.path as op\n\nimport json\nimport pprint\n\nimport nipype.pipeline.engine as pe\n\nfrom nipype.interfaces.utility import IdentityInterface\nimport nipype.interfaces.io as nio"
      ]
    },
    {
      "cell_type": "markdown",
      "metadata": {},
      "source": [
        "Running workflow\n==================\n\n"
      ]
    },
    {
      "cell_type": "code",
      "execution_count": null,
      "metadata": {
        "collapsed": false
      },
      "outputs": [],
      "source": [
        "from macapype.utils.utils_tests import load_test_data, format_template\nfrom macapype.pipelines.full_segment import create_full_segment_pnh_subpipes\n\n\n\n#package_directory = os.path.dirname(os.path.abspath(__file__))\n#params_file = '{}/../workflows/params_segment_marmo_test.json'.format(package_directory)\n#params = json.load(open(params_file))\n\n#print(params)\n#pprint.pprint(params)\n\n#if \"general\" in params.keys() and \"my_path\" in params[\"general\"].keys():\n    #my_path = params[\"general\"][\"my_path\"]\n#else:\n    ##my_path = \"/home/INT/meunier.d/Data/Primavoice/\"\n    #my_path = \"/hpc/crise/meunier.d/\"\n\n#nmt_dir = load_test_data('marmotemplate', path_to = my_path)\n\n#params_template = format_template(nmt_dir, 'marmotemplate')\n#print (params_template)\n\n#data_path = load_test_data(\"data_marmo_test\", path_to = my_path)\n\n## data file\n#T1_file = op.join(data_path, \"T1w_0p33mm_28.nii\")\n#T2_file = op.join(data_path, \"T2w_0p4mm_32.nii\")\n\n#from macapype.utils.utils_tests import load_test_data\n\n#nmt_dir = load_test_data('NMT_v1.2', path_to = my_path)\n\n## running workflow\n#segment_pnh = create_full_segment_pnh_subpipes(params=params,\n                                               #params_template=params_template,\n                                               #segment=True,\n                                               #name = \"segment_marmo_test_template\")\n#segment_pnh.base_dir = my_path\n\n#segment_pnh.inputs.inputnode.T1 = T1_file\n#segment_pnh.inputs.inputnode.T2 = T2_file\n\n\n#segment_pnh.write_graph(graph2use=\"colored\")\n#segment_pnh.run()\n\n#exit()"
      ]
    },
    {
      "cell_type": "markdown",
      "metadata": {},
      "source": [
        "Testing plot in local\n=======================\nmy_path = \"/home/INT/meunier.d/ownCloud-AMUBOX/Data_tmp/marmotest\"\n\n"
      ]
    },
    {
      "cell_type": "code",
      "execution_count": null,
      "metadata": {
        "collapsed": false
      },
      "outputs": [],
      "source": [
        "my_path = \"/home/INT/meunier.d/Data/Marmopype/marmo_test/\"\nwf_path = os.path.join(my_path, \"segment_marmo_test_template\")\n\nT1_file = op.join(wf_path, \"preproc_pipe\", \"crop_bb_T1\", \"T1w_0p33mm_28_roi.nii.gz\")\n\n# displaying results\noutfile_T1 = os.path.join(wf_path, \"outfile_T1.png\")\ncmd = \"fsleyes render --outfile {} --size 1800 600 {}\".format(outfile_T1, T1_file)\nos.system(cmd)\n\nimport matplotlib.pyplot as plt  # noqa\nimg = plt.imread(outfile_T1)\nplt.figure(figsize=(16, 16))\nplt.imshow(img)\nplt.axis('off')\nplt.show()"
      ]
    },
    {
      "cell_type": "markdown",
      "metadata": {},
      "source": [
        "Correct bias results\n==========================\n\n"
      ]
    },
    {
      "cell_type": "code",
      "execution_count": null,
      "metadata": {
        "collapsed": false
      },
      "outputs": [],
      "source": [
        "debiased_T1_file = op.join(wf_path, \"correct_bias_pipe\", \"restore_T1\",\n                           \"T1w_0p33mm_28_roi_maths.nii.gz\")\n\n\ndebiased_T1 = os.path.join(wf_path,\"debiased_T1.png\")\n\ncmd = \"fsleyes render --outfile {} --size 1800 600 {}\".format(debiased_T1, debiased_T1_file)\nos.system(cmd)\n\nimport matplotlib.pyplot as plt  # noqa\nimg = plt.imread(outfile_T1)\n\nfig, axs = plt.subplots(2, 1, figsize=(24, 16))\naxs[0].imshow(plt.imread(outfile_T1))\naxs[0].axis('off')\n\naxs[1].imshow(plt.imread(debiased_T1))\naxs[1].axis('off')\nplt.show()"
      ]
    },
    {
      "cell_type": "markdown",
      "metadata": {},
      "source": [
        "Brain extraction results\n==========================\n\n"
      ]
    },
    {
      "cell_type": "code",
      "execution_count": null,
      "metadata": {
        "collapsed": false
      },
      "outputs": [],
      "source": [
        "# At the end 1st part pipeline\nmask_file = os.path.join(\n    wf_path, \"devel_atlas_brex\", \"smooth_mask\",\n    \"T1w_0p33mm_28_roi_maths_noise_corrected_brain_bin_bin.nii.gz\")\n\noutput_img_overlay = os.path.join(wf_path,\"outfile_overlay.png\")\n#cmd = \"fsleyes render --outfile {} --size 800 600 {} -ot mask -o -a 50 {}\".format(output_img_overlay, mask_file, T1_file)\ncmd = \"fsleyes render --outfile {} --size 800 600 {} {} -a 50\".format(output_img_overlay, T1_file, mask_file)\nos.system(cmd)\n\nimport matplotlib.pyplot as plt  # noqa\nimg = plt.imread(output_img_overlay)\nplt.figure(figsize=(16, 16))\nplt.imshow(img)\nplt.axis('off')\nplt.show()"
      ]
    },
    {
      "cell_type": "markdown",
      "metadata": {},
      "source": [
        "# Second part of the pipeline\n##############################################################################\n\n"
      ]
    },
    {
      "cell_type": "code",
      "execution_count": null,
      "metadata": {
        "collapsed": false
      },
      "outputs": [],
      "source": [
        "seg_pipe = op.join(wf_path, \"segment_devel_NMT_sub_align\")"
      ]
    },
    {
      "cell_type": "markdown",
      "metadata": {},
      "source": [
        "debias T1xT2 and debias N4\n=============================\n\n"
      ]
    },
    {
      "cell_type": "code",
      "execution_count": null,
      "metadata": {
        "collapsed": false
      },
      "outputs": [],
      "source": [
        "denoised_T1_file = os.path.join(seg_pipe, \"denoised_pipe\", \"denoise_T1\",\n                           \"T1w_0p33mm_28_roi_noise_corrected.nii.gz\")\n\n\ndenoised_T1 = os.path.join(wf_path,\"denoised_T1.png\")\n\ncmd = \"fsleyes render --outfile {} --size 1800 600 {} -cm Render3\".format(denoised_T1, denoised_T1_file)\nos.system(cmd)\n\ndebiased_mask_T1_file = os.path.join(seg_pipe, \"masked_correct_bias_pipe\", \"restore_mask_T1\",\n                         \"T1w_0p33mm_28_roi_noise_corrected_maths_masked.nii.gz\")\n\ndebiased_mask_T1 = os.path.join(wf_path,\"debiased_mask_T1.png\")\n\ncmd = \"fsleyes render --outfile {} --size 1800 600 {} -cm Render3\".format(debiased_mask_T1, debiased_mask_T1_file)\nos.system(cmd)\n\n\nN4_debias_T1_file = os.path.join(seg_pipe, \"register_NMT_pipe\", \"norm_intensity\",\n                         \"T1w_0p33mm_28_roi_noise_corrected_maths_masked_corrected.nii.gz\")\n\nN4_debias_T1 = os.path.join(wf_path,\"N4_debias_T1.png\")\n\ncmd = \"fsleyes render --outfile {} --size 1800 600 {} -cm Render3\".format(N4_debias_T1, N4_debias_T1_file)\nos.system(cmd)\n\nimport matplotlib.pyplot as plt  # noqa\n\nfig, axs = plt.subplots(3, 1, figsize=(36, 16))\naxs[0].imshow(plt.imread(denoised_T1))\naxs[0].axis('off')\n\naxs[1].imshow(plt.imread(debiased_mask_T1))\naxs[1].axis('off')\n\naxs[2].imshow(plt.imread(N4_debias_T1))\naxs[2].axis('off')\nplt.show()"
      ]
    },
    {
      "cell_type": "markdown",
      "metadata": {},
      "source": [
        "results of deoblique\n===========================\n\n"
      ]
    },
    {
      "cell_type": "code",
      "execution_count": null,
      "metadata": {
        "collapsed": false
      },
      "outputs": [],
      "source": [
        "## showing mask\nT1_file = os.path.join(\n   seg_pipe,\"register_NMT_pipe\", \"norm_intensity/\",\n   \"T1w_0p33mm_28_roi_noise_corrected_maths_masked_corrected.nii.gz\")\n\ndeoblique_T1_file = os.path.join(\n    seg_pipe,\"segment_atropos_pipe\", \"deoblique/\",\n    \"T1w_0p33mm_28_roi_noise_corrected_maths_masked_corrected.nii.gz\")\n\noutfile_deoblique = os.path.join(wf_path,\"outfile_deoblique.png\")\ncmd = \"fsleyes render --outfile {} --size 1800 600 {} -a 50 {} -a 50\".format(outfile_deoblique, T1_file, deoblique_T1_file)\nos.system(cmd)\n\nimport matplotlib.pyplot as plt  # noqa\nimg = plt.imread(outfile_deoblique)\nplt.figure(figsize=(8, 8))\nplt.imshow(img)\nplt.axis('off')\nplt.show()"
      ]
    },
    {
      "cell_type": "markdown",
      "metadata": {},
      "source": [
        "# register template to subject\n#==============================\n\n"
      ]
    },
    {
      "cell_type": "code",
      "execution_count": null,
      "metadata": {
        "collapsed": false
      },
      "outputs": [],
      "source": [
        "#reg_template_mask_to_T1_file = os.path.join(\n    #seg_pipe, \"register_NMT_pipe\", \"align_NMT\",\n    #\"NMT_brainmask_prob_allineate.nii.gz\")\n\n#reg_template_mask_to_T1 = os.path.join(wf_path,\"reg_template_mask_to_T1.png\")\n\n\n#cmd = \"fsleyes render --outfile {} --size 1800 600 {} {} -a 50\".format(\n    #reg_template_mask_to_T1, reg_template_mask_to_T1_file, deoblique_T1_file)\n\n#os.system(cmd)\n\n#import matplotlib.pyplot as plt  # noqa\n#img = plt.imread(reg_template_mask_to_T1)\n#plt.figure(figsize=(16, 16))\n#plt.imshow(img)\n#plt.axis('off')\n#plt.show()"
      ]
    },
    {
      "cell_type": "markdown",
      "metadata": {},
      "source": [
        "# segmentation results\n#==========================\n\n"
      ]
    },
    {
      "cell_type": "code",
      "execution_count": null,
      "metadata": {
        "collapsed": false
      },
      "outputs": [],
      "source": [
        "#tissue_file = os.path.join(seg_pipe, \"segment_atropos_pipe\", \"seg_at\", \"segment_Segmentation.nii.gz\")\n#segmentation = os.path.join(wf_path,\"segmentation.png\")\n#cmd = \"fsleyes render --outfile {} --size 1800 600 {} {} -dr 0 4 -cm random -a 30\".format(segmentation, deoblique_T1_file, tissue_file)\n#os.system(cmd)\n\n#import matplotlib.pyplot as plt  # noqa\n#img = plt.imread(segmentation)\n#plt.figure(figsize=(16, 16))\n#plt.imshow(img)\n#plt.axis('off')\n#plt.show()"
      ]
    },
    {
      "cell_type": "markdown",
      "metadata": {},
      "source": [
        "# segmentation results by tissue\n#================================\n\n"
      ]
    },
    {
      "cell_type": "code",
      "execution_count": null,
      "metadata": {
        "collapsed": false
      },
      "outputs": [],
      "source": [
        "#csf_file = os.path.join(seg_pipe, \"segment_atropos_pipe\", \"threshold_csf\", \"segment_SegmentationPosteriors01_thresh.nii.gz\")\n#gm_file = os.path.join(seg_pipe, \"segment_atropos_pipe\", \"threshold_gm\", \"segment_SegmentationPosteriors02_thresh.nii.gz\")\n#wm_file = os.path.join(seg_pipe, \"segment_atropos_pipe\", \"threshold_wm\", \"segment_SegmentationPosteriors03_thresh.nii.gz\")\n\n#segmentation_sep = os.path.join(wf_path,\"segmentation_sep.png\")\n#cmd = \"fsleyes render --outfile {} --size 1800 600 {} {} -cm red -a 30 {} -cm blue -a 30 {} -cm green -a 30\".format(segmentation_sep, deoblique_T1_file, gm_file, wm_file, csf_file)\n#os.system(cmd)\n\n#import matplotlib.pyplot as plt  # noqa\n#img = plt.imread(segmentation_sep)\n#plt.figure(figsize=(16, 16))\n#plt.imshow(img)\n#plt.axis('off')\n#plt.show()"
      ]
    }
  ],
  "metadata": {
    "kernelspec": {
      "display_name": "Python 3",
      "language": "python",
      "name": "python3"
    },
    "language_info": {
      "codemirror_mode": {
        "name": "ipython",
        "version": 3
      },
      "file_extension": ".py",
      "mimetype": "text/x-python",
      "name": "python",
      "nbconvert_exporter": "python",
      "pygments_lexer": "ipython3",
      "version": "3.6.10"
    }
  },
  "nbformat": 4,
  "nbformat_minor": 0
}