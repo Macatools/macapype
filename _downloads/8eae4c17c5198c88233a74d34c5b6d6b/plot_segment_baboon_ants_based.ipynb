{
  "cells": [
    {
      "cell_type": "code",
      "execution_count": null,
      "metadata": {
        "collapsed": false
      },
      "outputs": [],
      "source": [
        "%matplotlib inline"
      ]
    },
    {
      "cell_type": "markdown",
      "metadata": {},
      "source": [
        "\n\n# Plot the results of a segmentation of a baboon dataset with ANTS-based pipeline\n"
      ]
    },
    {
      "cell_type": "code",
      "execution_count": null,
      "metadata": {
        "collapsed": false
      },
      "outputs": [],
      "source": [
        "# Authors: David Meunier <david_meunier_79@hotmail.fr>\n\n# License: BSD (3-clause)\n# sphinx_gallery_thumbnail_number = 2\nimport os\nimport os.path as op\n\nimport json\nimport pprint\n\nfrom macapype.utils.utils_tests import load_test_data\n\nimport matplotlib.pyplot as plt  # noqa"
      ]
    },
    {
      "cell_type": "markdown",
      "metadata": {},
      "source": [
        "## Testing plot in local\n\n"
      ]
    },
    {
      "cell_type": "code",
      "execution_count": null,
      "metadata": {
        "collapsed": false
      },
      "outputs": [],
      "source": [
        "data_path = \"/home/cordeau.m/data_macapype\"\n\nwf_path = os.path.join(data_path, \"example_segment_baboon_ants_based_Odor\")\n\ngraph = os.path.join(wf_path, \"graph.png\")\n\nimg = plt.imread(graph)\nplt.figure(figsize=(36, 72))\nplt.imshow(img)\nplt.axis('off')\nplt.show()"
      ]
    },
    {
      "cell_type": "markdown",
      "metadata": {},
      "source": [
        "## Data preparation\n\n"
      ]
    },
    {
      "cell_type": "markdown",
      "metadata": {},
      "source": [
        "### results of cropping\n\n"
      ]
    },
    {
      "cell_type": "code",
      "execution_count": null,
      "metadata": {
        "collapsed": false
      },
      "outputs": [],
      "source": [
        "cropped_T1_file = op.join(wf_path, \"short_data_preparation_pipe\", \"prep_T1\",\n                          \"crop\", \"sub-Odor_ses-T1_T1w_roi.nii.gz\")\n\nassert op.exists(cropped_T1_file), \"Error with {}\".format(cropped_T1_file)\n\n# displaying results\ncropped_T1 = os.path.join(wf_path, \"cropped_T1.png\")\ncmd = \"fsleyes render --outfile {} --size 1800 600 {}\".format(cropped_T1,\n                                                              cropped_T1_file)\nos.system(cmd)\n\n\ncropped_T2_file = op.join(wf_path, \"short_data_preparation_pipe\", \"prep_T2\",\n                          \"crop\", \"sub-Odor_ses-T1_T2w_roi.nii.gz\")\n\nassert op.exists(cropped_T2_file), \"Error with {}\".format(cropped_T2_file)\n\n# displaying results\ncropped_T2 = os.path.join(wf_path, \"cropped_T2.png\")\ncmd = \"fsleyes render --outfile {} --size 1800 600 {}\".format(cropped_T2,\n                                                              cropped_T2_file)\nos.system(cmd)"
      ]
    },
    {
      "cell_type": "markdown",
      "metadata": {},
      "source": [
        "### results of norm_intensity\n\n"
      ]
    },
    {
      "cell_type": "code",
      "execution_count": null,
      "metadata": {
        "collapsed": false
      },
      "outputs": [],
      "source": [
        "norm_intensity_T1_file = op.join(wf_path, \"short_data_preparation_pipe\",\n                                 \"prep_T1\", \"norm_intensity\",\n                                 \"sub-Odor_ses-T1_T1w_roi_corrected.nii.gz\")\n\nassert op.exists(norm_intensity_T1_file), \"Error with {}\".format(norm_intensity_T1_file)\n\n# displaying results\nnorm_intensity_T1 = os.path.join(wf_path, \"norm_intensity_T1.png\")\ncmd = \"fsleyes render --outfile {} --size 1800 600 {}\".format(norm_intensity_T1, norm_intensity_T1_file)\nos.system(cmd)\n\nnorm_intensity_T2_file = op.join(wf_path, \"short_data_preparation_pipe\",\n                                 \"prep_T2\", \"norm_intensity\",\n                                 \"sub-Odor_ses-T1_T2w_roi_corrected.nii.gz\")\n\nassert op.exists(norm_intensity_T2_file), \"Error with {}\".format(norm_intensity_T2_file)\n\n# displaying results\nnorm_intensity_T2 = os.path.join(wf_path, \"norm_intensity_T2.png\")\ncmd = \"fsleyes render --outfile {} --size 1800 600 {}\".format(norm_intensity_T2, norm_intensity_T2_file)\nos.system(cmd)"
      ]
    },
    {
      "cell_type": "markdown",
      "metadata": {},
      "source": [
        "### results of denoising\n\n"
      ]
    },
    {
      "cell_type": "code",
      "execution_count": null,
      "metadata": {
        "collapsed": false
      },
      "outputs": [],
      "source": [
        "denoise_T1_file = op.join(\n    wf_path, \"short_data_preparation_pipe\", \"prep_T1\", \"denoise\",\n    \"sub-Odor_ses-T1_T1w_roi_corrected_noise_corrected.nii.gz\")\n\nassert op.exists(denoise_T1_file), \"Error with {}\".format(denoise_T1_file)\n\n\n# displaying results\ndenoise_T1 = os.path.join(wf_path, \"denoise_T1.png\")\ncmd = \"fsleyes render --outfile {} --size 1800 600 {}\".format(denoise_T1, denoise_T1_file)\nos.system(cmd)\n\n\ndenoise_T2_file = op.join(\n    wf_path, \"short_data_preparation_pipe\", \"prep_T2\", \"denoise\",\n    \"sub-Odor_ses-T1_T2w_roi_corrected_noise_corrected.nii.gz\")\n\nassert op.exists(denoise_T2_file), \"Error with {}\".format(denoise_T2_file)\n\n# displaying results\ndenoise_T2 = os.path.join(wf_path, \"denoise_T2.png\")\ncmd = \"fsleyes render --outfile {} --size 1800 600 {}\".format(denoise_T2,\n                                                              denoise_T2_file)\nos.system(cmd)"
      ]
    },
    {
      "cell_type": "code",
      "execution_count": null,
      "metadata": {
        "collapsed": false
      },
      "outputs": [],
      "source": [
        "fig, axs = plt.subplots(3, 1, figsize=(36, 24))\naxs[0].imshow(plt.imread(cropped_T1))\naxs[0].axis('off')\n\naxs[1].imshow(plt.imread(norm_intensity_T1))\naxs[1].axis('off')\n\naxs[2].imshow(plt.imread(denoise_T1))\naxs[2].axis('off')\n\nplt.show()\n\nfig, axs = plt.subplots(3, 1, figsize=(36, 24))\naxs[0].imshow(plt.imread(cropped_T2))\naxs[0].axis('off')\n\naxs[1].imshow(plt.imread(norm_intensity_T2))\naxs[1].axis('off')\n\naxs[2].imshow(plt.imread(denoise_T2))\naxs[2].axis('off')\n\nplt.show()"
      ]
    },
    {
      "cell_type": "markdown",
      "metadata": {},
      "source": [
        "## First part of the pipeline: brain extraction\n\n"
      ]
    },
    {
      "cell_type": "markdown",
      "metadata": {},
      "source": [
        "### Correct bias results\n\n"
      ]
    },
    {
      "cell_type": "code",
      "execution_count": null,
      "metadata": {
        "collapsed": false
      },
      "outputs": [],
      "source": [
        "debiased_T1_file = op.join(\n    wf_path, \"brain_extraction_pipe\", \"correct_bias_pipe\", \"restore_T1\",\n    \"sub-Odor_ses-T1_T1w_roi_corrected_noise_corrected_maths.nii.gz\")\n\nassert op.exists(norm_intensity_T2_file)\n\n\ndebiased_T1 = os.path.join(wf_path,\"debiased_T1.png\")\n\ncmd = \"fsleyes render --outfile {} --size 1800 600 {}\".format(debiased_T1, debiased_T1_file)\nos.system(cmd)\n\nimport matplotlib.pyplot as plt  # noqa\nfig, axs = plt.subplots(2, 1, figsize=(36, 24))\naxs[0].imshow(plt.imread(denoise_T1))\naxs[0].axis('off')\n\naxs[1].imshow(plt.imread(debiased_T1))\naxs[1].axis('off')\nplt.show()"
      ]
    },
    {
      "cell_type": "markdown",
      "metadata": {},
      "source": [
        "### Brain extraction results\n\n"
      ]
    },
    {
      "cell_type": "code",
      "execution_count": null,
      "metadata": {
        "collapsed": false
      },
      "outputs": [],
      "source": [
        "# At the end 1st part pipeline\nmask_file = os.path.join(\n    wf_path, \"brain_extraction_pipe\", \"extract_pipe\", \"smooth_mask\",\n    \"sub-Odor_ses-T1_T1w_roi_corrected_noise_corrected_maths_brain_bin_bin.nii.gz\")\n\n\nassert op.exists(mask_file)\n\nmask = os.path.join(wf_path,\"mask.png\")\n#cmd = \"fsleyes render --outfile {} --size 800 600 {} -ot mask -o -a 50 {}\".format(mask, mask_file, T1_file)\ncmd = \"fsleyes render --outfile {} --size 800 600 {} {} -a 50\".format(mask, cropped_T1_file, mask_file)\nos.system(cmd)\n\nimport matplotlib.pyplot as plt  # noqa\nimg = plt.imread(mask)\nplt.figure(figsize=(36, 12))\nplt.imshow(img)\nplt.axis('off')\nplt.show()"
      ]
    },
    {
      "cell_type": "markdown",
      "metadata": {},
      "source": [
        "## Second part of the pipeline: segmentation\n\n"
      ]
    },
    {
      "cell_type": "code",
      "execution_count": null,
      "metadata": {
        "collapsed": false
      },
      "outputs": [],
      "source": [
        "seg_pipe = op.join(wf_path, \"brain_segment_from_mask_pipe\")"
      ]
    },
    {
      "cell_type": "markdown",
      "metadata": {},
      "source": [
        "### debias T1xT2 and debias N4\n\n"
      ]
    },
    {
      "cell_type": "code",
      "execution_count": null,
      "metadata": {
        "collapsed": false
      },
      "outputs": [],
      "source": [
        "debiased_mask_T1_file = os.path.join(seg_pipe, \"masked_correct_bias_pipe\", \"restore_mask_T1\",\n                         \"sub-Odor_ses-T1_T1w_roi_corrected_noise_corrected_maths_masked.nii.gz\")\n\ndebiased_mask_T1 = os.path.join(wf_path,\"debiased_mask_T1.png\")\n\ncmd = \"fsleyes render --outfile {} --size 1800 600 {} -cm Render3\".format(debiased_mask_T1, debiased_mask_T1_file)\nos.system(cmd)\n\n\nN4_debias_T1_file = os.path.join(seg_pipe, \"register_NMT_pipe\", \"norm_intensity\",\n                         \"sub-Odor_ses-T1_T1w_roi_corrected_noise_corrected_maths_masked_corrected.nii.gz\")\n\nN4_debias_T1 = os.path.join(wf_path,\"N4_debias_T1.png\")\n\ncmd = \"fsleyes render --outfile {} --size 1800 600 {} -cm Render3\".format(N4_debias_T1, N4_debias_T1_file)\nos.system(cmd)\n\nimport matplotlib.pyplot as plt  # noqa\n\nfig, axs = plt.subplots(3, 1, figsize=(36, 24))\naxs[0].imshow(plt.imread(norm_intensity_T1))\naxs[0].axis('off')\n\naxs[1].imshow(plt.imread(debiased_mask_T1))\naxs[1].axis('off')\n\naxs[2].imshow(plt.imread(N4_debias_T1))\naxs[2].axis('off')\nplt.show()"
      ]
    },
    {
      "cell_type": "markdown",
      "metadata": {},
      "source": [
        "### register template to subject\n\n"
      ]
    },
    {
      "cell_type": "code",
      "execution_count": null,
      "metadata": {
        "collapsed": false
      },
      "outputs": [],
      "source": [
        "deoblique_T1_file = os.path.join(\n     seg_pipe, \"register_NMT_pipe\",  \"deoblique\",\n    \"sub-Odor_ses-T1_T1w_roi_corrected_noise_corrected_maths_masked_corrected.nii.gz\")\n\nreg_template_mask_to_T1_file = os.path.join(\n    seg_pipe, \"register_NMT_pipe\", \"align_NMT\",\n    \"Haiko89_Asymmetric.nii.gz\")\n\nreg_template_mask_to_T1 = os.path.join(wf_path,\"reg_template_mask_to_T1.png\")\n\ncmd = \"fsleyes render --outfile {} --size 1800 600 {} {} -a 50\".format(\n    reg_template_mask_to_T1, deoblique_T1_file, reg_template_mask_to_T1_file)\n\nos.system(cmd)\n\nimport matplotlib.pyplot as plt  # noqa\nimg = plt.imread(reg_template_mask_to_T1)\nplt.figure(figsize=(36, 12))\nplt.imshow(img)\nplt.axis('off')\nplt.show()"
      ]
    },
    {
      "cell_type": "markdown",
      "metadata": {},
      "source": [
        "### segmentation results by tissue\n\n"
      ]
    },
    {
      "cell_type": "code",
      "execution_count": null,
      "metadata": {
        "collapsed": false
      },
      "outputs": [],
      "source": [
        "csf_file = os.path.join(seg_pipe, \"segment_atropos_pipe\", \"threshold_csf\", \"segment_SegmentationPosteriors01_thresh.nii.gz\")\ngm_file = os.path.join(seg_pipe, \"segment_atropos_pipe\", \"threshold_gm\", \"segment_SegmentationPosteriors02_thresh.nii.gz\")\nwm_file = os.path.join(seg_pipe, \"segment_atropos_pipe\", \"threshold_wm\", \"segment_SegmentationPosteriors03_thresh.nii.gz\")\n\nsegmentation_sep = os.path.join(wf_path,\"segmentation_sep.png\")\ncmd = \"fsleyes render --outfile {} --size 1800 600 {} {} -cm red -a 30 {} -cm blue -a 30 {} -cm green -a 30\".format(segmentation_sep, debiased_mask_T1_file, gm_file, wm_file, csf_file)\nos.system(cmd)\n\nimport matplotlib.pyplot as plt  # noqa\nimg = plt.imread(segmentation_sep)\nplt.figure(figsize=(36, 12))\nplt.imshow(img)\nplt.axis('off')\nplt.show()"
      ]
    }
  ],
  "metadata": {
    "kernelspec": {
      "display_name": "Python 3",
      "language": "python",
      "name": "python3"
    },
    "language_info": {
      "codemirror_mode": {
        "name": "ipython",
        "version": 3
      },
      "file_extension": ".py",
      "mimetype": "text/x-python",
      "name": "python",
      "nbconvert_exporter": "python",
      "pygments_lexer": "ipython3",
      "version": "3.7.9"
    }
  },
  "nbformat": 4,
  "nbformat_minor": 0
}