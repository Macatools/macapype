{
  "cells": [
    {
      "cell_type": "code",
      "execution_count": null,
      "metadata": {
        "collapsed": false
      },
      "outputs": [],
      "source": [
        "%matplotlib inline"
      ]
    },
    {
      "cell_type": "markdown",
      "metadata": {},
      "source": [
        "\n\n# Plot the results of a segmentation with ANTS-based pipeline in sphinx position\n"
      ]
    },
    {
      "cell_type": "code",
      "execution_count": null,
      "metadata": {
        "collapsed": false
      },
      "outputs": [],
      "source": [
        "# Authors: David Meunier, Bastien Cagna\n\n# License: BSD (3-clause)\n# sphinx_gallery_thumbnail_number = 2\n\nimport os\nimport os.path as op\n\nfrom macapype.utils.utils_tests import load_test_data"
      ]
    },
    {
      "cell_type": "markdown",
      "metadata": {},
      "source": [
        "## Testing plot in local\n\n"
      ]
    },
    {
      "cell_type": "code",
      "execution_count": null,
      "metadata": {
        "collapsed": false
      },
      "outputs": [],
      "source": [
        "orig_data_path = load_test_data(\"data_test_sphinx_macaque\")\n\ndata_path = load_test_data(\"data_test_sphinx_macaque_processed\")\n\nwf_path = os.path.join(data_path, \"example_segment_sphinx_macaque_ants_based\")\n\ngraph = os.path.join(wf_path, \"graph.png\")\n\nimport matplotlib.pyplot as plt  # noqa\nimg = plt.imread(graph)\nplt.figure(figsize=(36, 72))\nplt.imshow(img)\nplt.axis('off')\nplt.show()"
      ]
    },
    {
      "cell_type": "markdown",
      "metadata": {},
      "source": [
        "## Data preparation\n\n"
      ]
    },
    {
      "cell_type": "markdown",
      "metadata": {},
      "source": [
        "# Reorient\n#==========================\n\n"
      ]
    },
    {
      "cell_type": "code",
      "execution_count": null,
      "metadata": {
        "collapsed": false
      },
      "outputs": [],
      "source": [
        "orig_T1_file = op.join(orig_data_path, \"sub-ziggy_T1w.nii\")\n\nreoriented_T1_file = op.join(wf_path, \"old_data_preparation_pipe\", \"reorient_T1_pipe\", \"swap_dim\", \"sub-ziggy_T1w_newdims.nii.gz\")\n\n# displaying results\norig_T1 = os.path.join(wf_path, \"orig_T1.png\")\ncmd = \"fsleyes render --outfile {} --size 1800 600 {}\".format(orig_T1, orig_T1_file)\nos.system(cmd)\n\nreoriented_T1 = os.path.join(wf_path, \"reoriented_T1.png\")\ncmd = \"fsleyes render --outfile {} --size 1800 600 {}\".format(reoriented_T1, reoriented_T1_file)\nos.system(cmd)\n\nimport matplotlib.pyplot as plt  # noqa\n\nfig, axs = plt.subplots(2, 1, figsize=(36, 24))\naxs[0].imshow(plt.imread(orig_T1))\naxs[0].axis('off')\n\naxs[1].imshow(plt.imread(reoriented_T1))\naxs[1].axis('off')\n\nplt.show()"
      ]
    },
    {
      "cell_type": "markdown",
      "metadata": {},
      "source": [
        "# Cropping and denoise\n#==========================\n\n"
      ]
    },
    {
      "cell_type": "code",
      "execution_count": null,
      "metadata": {
        "collapsed": false
      },
      "outputs": [],
      "source": [
        "cropped_T1_file = op.join(wf_path, \"old_data_preparation_pipe\", \"bet_crop\", \"sub-ziggy_T1w_newdims_cropped.nii.gz\")\nassert os.path.exists(cropped_T1_file), \"Error with {}\".format(cropped_T1_file)\n\ncropped_T1 = os.path.join(wf_path, \"cropped_T1.png\")\ncmd = \"fsleyes render --outfile {} --size 1800 600 {}\".format(cropped_T1, cropped_T1_file)\nos.system(cmd)\n\n\ndenoised_T1_file = op.join(wf_path, \"old_data_preparation_pipe\", \"denoise_T1\", \"sub-ziggy_T1w_newdims_cropped_noise_corrected.nii.gz\")\n\ndenoised_T1 = os.path.join(wf_path, \"denoised_T1.png\")\ncmd = \"fsleyes render --outfile {} --size 1800 600 {}\".format(denoised_T1, denoised_T1_file)\nos.system(cmd)\n\nimport matplotlib.pyplot as plt  # noqa\n\nfig, axs = plt.subplots(2, 1, figsize=(36, 24))\naxs[0].imshow(plt.imread(cropped_T1))\naxs[0].axis('off')\n\naxs[1].imshow(plt.imread(denoised_T1))\naxs[1].axis('off')\n\nplt.show()"
      ]
    }
  ],
  "metadata": {
    "kernelspec": {
      "display_name": "Python 3",
      "language": "python",
      "name": "python3"
    },
    "language_info": {
      "codemirror_mode": {
        "name": "ipython",
        "version": 3
      },
      "file_extension": ".py",
      "mimetype": "text/x-python",
      "name": "python",
      "nbconvert_exporter": "python",
      "pygments_lexer": "ipython3",
      "version": "3.7.10"
    }
  },
  "nbformat": 4,
  "nbformat_minor": 0
}