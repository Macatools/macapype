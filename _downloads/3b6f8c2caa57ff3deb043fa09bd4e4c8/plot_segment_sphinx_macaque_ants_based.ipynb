{
  "cells": [
    {
      "cell_type": "markdown",
      "metadata": {},
      "source": [
        "\n\n# Plot the results of a segmentation with ANTS-based pipeline in sphinx position\n"
      ]
    },
    {
      "cell_type": "code",
      "execution_count": null,
      "metadata": {
        "collapsed": false
      },
      "outputs": [],
      "source": [
        "# Authors: David Meunier, Bastien Cagna\n\n# License: BSD (3-clause)\n# sphinx_gallery_thumbnail_number = 2\n\nimport os\nimport os.path as op\n\nfrom macapype.utils.utils_tests import load_test_data"
      ]
    },
    {
      "cell_type": "markdown",
      "metadata": {},
      "source": [
        "## Testing plot in local\n\n"
      ]
    },
    {
      "cell_type": "code",
      "execution_count": null,
      "metadata": {
        "collapsed": false
      },
      "outputs": [],
      "source": [
        "#orig_data_path = load_test_data(\"data_test_sphinx_macaque\")"
      ]
    },
    {
      "cell_type": "markdown",
      "metadata": {},
      "source": [
        "## # Data preparation\n\n"
      ]
    },
    {
      "cell_type": "markdown",
      "metadata": {},
      "source": [
        "## Reorient\n##==========================\n\n"
      ]
    },
    {
      "cell_type": "code",
      "execution_count": null,
      "metadata": {
        "collapsed": false
      },
      "outputs": [],
      "source": [
        "#orig_T1_file = op.join(orig_data_path, \"sub-ziggy_T1w.nii\")\n\n## displaying results\n#orig_T1 = os.path.join(orig_data_path, \"orig_T1.png\")\n#cmd = \"fsleyes render --outfile {} --size 1800 600 {}\".format(orig_T1, orig_T1_file)\n#os.system(cmd)\n\n#import matplotlib.pyplot as plt  # noqa\n\n#fig, axs = plt.subplots(1, 1, figsize=(36, 24))\n#axs.imshow(plt.imread(orig_T1))\n#axs.axis('off')\n\n#plt.show()"
      ]
    }
  ],
  "metadata": {
    "kernelspec": {
      "display_name": "Python 3",
      "language": "python",
      "name": "python3"
    },
    "language_info": {
      "codemirror_mode": {
        "name": "ipython",
        "version": 3
      },
      "file_extension": ".py",
      "mimetype": "text/x-python",
      "name": "python",
      "nbconvert_exporter": "python",
      "pygments_lexer": "ipython3",
      "version": "3.10.5"
    }
  },
  "nbformat": 4,
  "nbformat_minor": 0
}